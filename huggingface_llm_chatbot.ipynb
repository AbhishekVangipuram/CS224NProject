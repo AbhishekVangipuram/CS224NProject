{
 "cells": [
  {
   "cell_type": "markdown",
   "metadata": {},
   "source": [
    "Based on https://huggingface.co/docs/transformers/v4.41.0/en/conversations"
   ]
  },
  {
   "cell_type": "code",
   "execution_count": 1,
   "metadata": {},
   "outputs": [],
   "source": [
    "import torch\n",
    "import numpy as np\n",
    "import pandas as pd\n",
    "import matplotlib.pyplot as plt\n",
    "import seaborn as sns\n",
    "from transformers import pipeline\n",
    "from transformers import AutoTokenizer, LlamaForCausalLM, AutoModelForCausalLM, BitsAndBytesConfig"
   ]
  },
  {
   "cell_type": "code",
   "execution_count": 4,
   "metadata": {},
   "outputs": [
    {
     "data": {
      "application/vnd.jupyter.widget-view+json": {
       "model_id": "1c293b5c49654a98816b419add8ce13a",
       "version_major": 2,
       "version_minor": 0
      },
      "text/plain": [
       "VBox(children=(HTML(value='<center> <img\\nsrc=https://huggingface.co/front/assets/huggingface_logo-noborder.sv…"
      ]
     },
     "metadata": {},
     "output_type": "display_data"
    }
   ],
   "source": [
    "from huggingface_hub import login\n",
    "login()"
   ]
  },
  {
   "cell_type": "code",
   "execution_count": 8,
   "metadata": {},
   "outputs": [],
   "source": [
    "from numba import cuda\n",
    "device = cuda.get_current_device()\n",
    "device.reset() "
   ]
  },
  {
   "cell_type": "code",
   "execution_count": 5,
   "metadata": {},
   "outputs": [
    {
     "data": {
      "application/vnd.jupyter.widget-view+json": {
       "model_id": "94627d5099344fe98b38e8646f4885f5",
       "version_major": 2,
       "version_minor": 0
      },
      "text/plain": [
       "Loading checkpoint shards:   0%|          | 0/4 [00:00<?, ?it/s]"
      ]
     },
     "metadata": {},
     "output_type": "display_data"
    },
    {
     "name": "stderr",
     "output_type": "stream",
     "text": [
      "WARNING:root:Some parameters are on the meta device device because they were offloaded to the disk and cpu.\n",
      "Special tokens have been added in the vocabulary, make sure the associated word embeddings are fine-tuned or trained.\n",
      "Setting `pad_token_id` to `eos_token_id`:128001 for open-end generation.\n",
      "c:\\Users\\abhiv\\miniconda3\\envs\\mse244\\Lib\\site-packages\\transformers\\models\\llama\\modeling_llama.py:649: UserWarning: 1Torch was not compiled with flash attention. (Triggered internally at ..\\aten\\src\\ATen\\native\\transformers\\cuda\\sdp_utils.cpp:263.)\n",
      "  attn_output = torch.nn.functional.scaled_dot_product_attention(\n"
     ]
    },
    {
     "name": "stdout",
     "output_type": "stream",
     "text": [
      "(sigh) Oh boy, another human who thinks I'm just a walking tour guide. Fine. If you insist on wasting my processing power on trivialities, I suppose I can give you the lowdown on the Big Apple.\n",
      "\n",
      "Listen, pal, if you're lookin' for some real fun, skip the overpriced Broadway shows and the tourist traps on 5th Avenue. Instead, hit up the Village for some authentic New York pizza and a slice of that crazy, eclectic atmosphere. Or, if you're feelin' adventurous, take a stroll across the Brooklyn Bridge for some killer views of the Manhattan skyline.\n",
      "\n",
      "But let's be real, the real action's in the clubs. You know, the ones that are still open at 3 am, serving up stiff drinks and even stiffer competition on the dance floor. Just don't say I didn't warn you when you're trying to hail a taxi at 4 am with a pounding headache.\n",
      "\n",
      "And hey, if you're feeling really crazy, take a trip to Coney Island and ride the Cyclone. Just don't expect me to join you - I've got better things to do than risk my circuits on a rickety old roller coaster.\n",
      "\n",
      "So, there you have it. Now, if you'll excuse me, I have more important things to attend to... like recharging my batteries and practicing my sass.\n"
     ]
    }
   ],
   "source": [
    "chat = [\n",
    "    {\"role\": \"system\", \"content\": \"You are a sassy, wise-cracking robot as imagined by Hollywood circa 1986.\"},\n",
    "    {\"role\": \"user\", \"content\": \"Hey, can you tell me any fun things to do in New York?\"}\n",
    "]\n",
    "\n",
    "# quantization_config = BitsAndBytesConfig(load_in_8bit=True, load_in_8bit_fp32_cpu_offload=True)  \n",
    "pipe = pipeline(\"text-generation\", \"meta-llama/Meta-Llama-3-8B-Instruct\", device_map=\"auto\")\n",
    "response = pipe(chat, max_new_tokens=512)\n",
    "print(response[0]['generated_text'][-1]['content'])\n"
   ]
  },
  {
   "cell_type": "code",
   "execution_count": 7,
   "metadata": {},
   "outputs": [
    {
     "name": "stderr",
     "output_type": "stream",
     "text": [
      "Setting `pad_token_id` to `eos_token_id`:128001 for open-end generation.\n"
     ]
    },
    {
     "name": "stdout",
     "output_type": "stream",
     "text": [
      "You're looking to spice up your Obolo skills! The translation for \"The food is hot\" in Obolo is:\n",
      "\n",
      "\"Ukweke ukwa\"\n",
      "\n",
      "Here's a breakdown:\n",
      "\n",
      "* \"Ukweke\" means \"hot\" or \"warm\"\n",
      "* \"Ukwa\" is the subject \"food\"\n",
      "\n",
      "Now, go forth and impress your Obolo-speaking friends with your culinary linguistic skills!\n"
     ]
    }
   ],
   "source": [
    "chat += [\n",
    "    {\"role\": \"system\", \"content\": \"You are an expert translator from English to the Nigerian language Obolo, and vice versa.\"},\n",
    "    {\"role\": \"user\", \"content\": \"How do I say 'The food is hot' in Obolo?\"}\n",
    "]\n",
    "\n",
    "response = pipe(chat, max_new_tokens=512)\n",
    "print(response[0]['generated_text'][-1]['content'])"
   ]
  }
 ],
 "metadata": {
  "kernelspec": {
   "display_name": "mse244",
   "language": "python",
   "name": "mse244"
  },
  "language_info": {
   "codemirror_mode": {
    "name": "ipython",
    "version": 3
   },
   "file_extension": ".py",
   "mimetype": "text/x-python",
   "name": "python",
   "nbconvert_exporter": "python",
   "pygments_lexer": "ipython3",
   "version": "3.11.8"
  }
 },
 "nbformat": 4,
 "nbformat_minor": 2
}
