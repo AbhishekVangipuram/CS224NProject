{
 "cells": [
  {
   "cell_type": "code",
   "execution_count": 1,
   "metadata": {},
   "outputs": [],
   "source": [
    "import torch\n",
    "from torch import nn\n",
    "from transformers import PreTrainedTokenizerFast, AutoTokenizer\n",
    "from datasets import load_dataset\n",
    "from evaluate import load, combine\n",
    "from tqdm import tqdm\n",
    "\n",
    "from transformer import *\n",
    "from dataset import *\n",
    "\n",
    "from numba import cuda\n",
    "device = cuda.get_current_device()\n",
    "device.reset() "
   ]
  },
  {
   "cell_type": "code",
   "execution_count": 2,
   "metadata": {},
   "outputs": [],
   "source": [
    "import sys\n",
    "sys.path.append('../')\n",
    "# from custom_tokenizers.tokenizerv1 import parse_sentence\n",
    "import json"
   ]
  },
  {
   "cell_type": "code",
   "execution_count": 3,
   "metadata": {},
   "outputs": [
    {
     "name": "stdout",
     "output_type": "stream",
     "text": [
      "7165\n",
      "50257\n",
      "cuda\n",
      "en ob\n"
     ]
    }
   ],
   "source": [
    "# get data \n",
    "train = load_dataset('csv', data_files='../data/train.csv')['train']\n",
    "test = load_dataset('csv', data_files='../data/test.csv')['train']\n",
    "VAL_CUTOFF = 500 # random choice for val loss, full test set is 3110, take 500 away for validation only. \n",
    "val = test[:VAL_CUTOFF]\n",
    "test = test[VAL_CUTOFF:]\n",
    "\n",
    "# obolo_tokenizer = PreTrainedTokenizerFast(tokenizer_file='../custom_tokenizers/obolo-bpe-tokenizer.json', padding='left')\n",
    "english_tokenizer = AutoTokenizer.from_pretrained('gpt2', padding='left')\n",
    "\n",
    "# from custom_tokenizers.tokenizerv2 import parse_sentence\n",
    "from custom_tokenizers.dt_tokenizer import parse_sentence\n",
    "# # we construct this vocab by calculating tokens from train data\n",
    "# obolo_vocab_sents = [set(parse_sentence(s)) for s in train['Obolo']]\n",
    "# obolo_vocab = set()\n",
    "# for sent in obolo_vocab_sents:\n",
    "#     obolo_vocab.update(sent)\n",
    "# obolo_vocab = special_tokens + list(obolo_vocab)\n",
    "# obolo_vocab = {token:idx for idx, token in enumerate(obolo_vocab)}\n",
    "\n",
    "# # Serialize data into file:\n",
    "# # json.dump( obolo_vocab, open( \"../custom_tokenizers/custom_obolo_tokenizer_vocab_2.json\", 'w' ) )\n",
    "# json.dump( obolo_vocab, open( \"../custom_tokenizers/custom_obolo_detokenizer_vocab.json\", 'w' ) )\n",
    "\n",
    "\n",
    "# Read data from file:\n",
    "# obolo_vocab = json.load( open( \"../custom_tokenizers/custom_obolo_tokenizer_vocab_2.json\" ) )\n",
    "obolo_vocab = json.load( open( \"../custom_tokenizers/custom_obolo_detokenizer_vocab.json\" ) )\n",
    "\n",
    "\n",
    "print(len(obolo_vocab))\n",
    "print(len(english_tokenizer.vocab))\n",
    "\n",
    "print(DEVICE)\n",
    "\n",
    "token_transform = {}\n",
    "vocab_transform = {}\n",
    "\n",
    "# token_transform[SRC_LANGUAGE] = parse_sentence\n",
    "# token_transform[TGT_LANGUAGE] = english_tokenizer\n",
    "\n",
    "# vocab_transform[SRC_LANGUAGE] = obolo_vocab \n",
    "# vocab_transform[TGT_LANGUAGE] = english_tokenizer.vocab\n",
    "\n",
    "SRC_LANGUAGE = 'en'\n",
    "TGT_LANGUAGE = 'ob'\n",
    "token_transform[SRC_LANGUAGE] = english_tokenizer\n",
    "token_transform[TGT_LANGUAGE] = parse_sentence\n",
    "\n",
    "vocab_transform[SRC_LANGUAGE] = english_tokenizer.vocab \n",
    "vocab_transform[TGT_LANGUAGE] = obolo_vocab\n",
    "\n",
    "# for ln in [SRC_LANGUAGE, TGT_LANGUAGE]:\n",
    "#   vocab_transform[ln].set_default_index(UNK_IDX)\n",
    "init_text_transform(token_transform, SRC_LANGUAGE, TGT_LANGUAGE)\n",
    "\n",
    "# change this due to custom tokenizer\n",
    "# init_text_transform(token_transform)\n",
    "# text_transform[SRC_LANGUAGE] = sequential_transforms((lambda text: [obolo_vocab[token] if token in obolo_vocab else UNK_IDX for token in token_transform[SRC_LANGUAGE](text)]), # input to tokens to ids\n",
    "#                                                      tensor_transform)                                                                                                          # add BOS/EOS and create tensor\n",
    "\n",
    "# text_transform[TGT_LANGUAGE] = sequential_transforms((lambda text: token_transform[TGT_LANGUAGE](text).get('input_ids')),\n",
    "#                                                      tensor_transform)    \n",
    "\n",
    "text_transform[TGT_LANGUAGE] = sequential_transforms((lambda text: [obolo_vocab[token] if token in obolo_vocab else UNK_IDX for token in token_transform[TGT_LANGUAGE](text)]), # input to tokens to ids\n",
    "                                                     tensor_transform)                                                                                                          # add BOS/EOS and create tensor\n",
    "\n",
    "text_transform[SRC_LANGUAGE] = sequential_transforms((lambda text: token_transform[SRC_LANGUAGE](text).get('input_ids')),\n",
    "                                                     tensor_transform)   "
   ]
  },
  {
   "cell_type": "code",
   "execution_count": 4,
   "metadata": {},
   "outputs": [
    {
     "name": "stdout",
     "output_type": "stream",
     "text": [
      "eya orọ, nnenikana isi lek ogwukaan̄-ene awaji, mè ito ito inyi, mè iriaak uriaak, mè ibeek mbeek, mè ijin otu, mè itap ofọnti ufieejit, mè ifuun̄ lek me ntọn̄.\n",
      "['e', 'ya', 'o', 'rọ', ',', 'n', 'neni', 'kana', 'i', 'si', 'lek', 'ogwukaan̄', '-', 'e', 'ne', 'awaji', ',', 'mè', 'i', 'to', 'i', 'to', 'i', 'nyi', ',', 'mè', 'i', 'riaak', 'uriaak', ',', 'mè', 'i', 'beek', 'm', 'beek', ',', 'mè', 'i', 'jin', 'o', 'tu', ',', 'mè', 'i', 'tap', 'ofọnti', 'ufieejit', ',', 'mè', 'i', 'fuun̄', 'lek', 'me', 'n', 'tọn̄', '.']\n",
      "tensor([   1, 3663, 4948, 2148, 2510, 2491, 6404, 4761, 6466, 1347, 5593, 5110,\n",
      "        5583, 2024, 3663, 1519, 3486, 2491, 3865, 1347, 1128, 1347, 1128, 1347,\n",
      "         443, 2491, 3865, 1347, 5579,  136, 2491, 3865, 1347, 3847, 4775, 3847,\n",
      "        2491, 3865, 1347, 3084, 2148, 1164, 2491, 3865, 1347, 6278, 5203, 6492,\n",
      "        2491, 3865, 1347,  278, 5110, 3449, 6404, 2887, 6770,    2])\n",
      "True\n",
      "and i set my face unto the lord god, to seek by prayer and supplications, with fasting, and sackcloth, and ashes:\n",
      "tensor([    1,   392,  1312,   900,   616,  1986, 12722,   262, 15876,  5770,\n",
      "           11,   284,  5380,   416, 11443,   290,   802,   677,   602,    11,\n",
      "          351, 24845,    11,   290, 23704, 44905,    11,   290, 29914,    25,\n",
      "            2])\n"
     ]
    }
   ],
   "source": [
    "ob_sent, en_sent = train['Obolo'][0], train['English'][0]\n",
    "print(ob_sent)\n",
    "print(parse_sentence(ob_sent))\n",
    "print(text_transform[SRC_LANGUAGE](ob_sent))\n",
    "print([obolo_vocab[token] for token in token_transform[SRC_LANGUAGE](ob_sent)] == list(text_transform[SRC_LANGUAGE](ob_sent))[1:-1])\n",
    "print(en_sent)\n",
    "print(text_transform[TGT_LANGUAGE](en_sent))"
   ]
  },
  {
   "cell_type": "code",
   "execution_count": 6,
   "metadata": {},
   "outputs": [
    {
     "name": "stdout",
     "output_type": "stream",
     "text": [
      "50257\n"
     ]
    },
    {
     "name": "stderr",
     "output_type": "stream",
     "text": [
      "c:\\Users\\abhiv\\miniconda3\\envs\\cs224n-gpu\\lib\\site-packages\\torch\\nn\\modules\\transformer.py:306: UserWarning: enable_nested_tensor is True, but self.use_nested_tensor is False because encoder_layer.self_attn.batch_first was not True(use batch_first for better inference performance)\n",
      "  warnings.warn(f\"enable_nested_tensor is True, but self.use_nested_tensor is False because {why_not_sparsity_fast_path}\")\n"
     ]
    }
   ],
   "source": [
    "torch.manual_seed(0)\n",
    "\n",
    "# SRC_VOCAB_SIZE = len(obolo_vocab)\n",
    "# print(SRC_VOCAB_SIZE)\n",
    "# TGT_VOCAB_SIZE = english_tokenizer.vocab_size\n",
    "SRC_VOCAB_SIZE = english_tokenizer.vocab_size\n",
    "print(SRC_VOCAB_SIZE)\n",
    "TGT_VOCAB_SIZE = len(obolo_vocab)\n",
    "# ORIGINAL TRANSFORMER CONFIGURATION\n",
    "EMB_SIZE = 512\n",
    "NHEAD = 8\n",
    "FFN_HID_DIM = 512\n",
    "BATCH_SIZE = 64\n",
    "NUM_ENCODER_LAYERS = 3\n",
    "NUM_DECODER_LAYERS = 3\n",
    "\n",
    "# TWEAKS ARE BAD, JUST USE DEFAULT CONFIG\n",
    "# EMB_SIZE = 512\n",
    "# NHEAD = 16\n",
    "# FFN_HID_DIM = 512\n",
    "# BATCH_SIZE = 64\n",
    "# NUM_ENCODER_LAYERS = 6\n",
    "# NUM_DECODER_LAYERS = 6\n",
    "\n",
    "# train_dataloader = generate_dataloader(train['Obolo'], train['English'], BATCH_SIZE)\n",
    "# val_dataloader = generate_dataloader(val['Obolo'], val['English'], BATCH_SIZE)\n",
    "# test_dataloader = generate_dataloader(test['Obolo'], test['English'], BATCH_SIZE)\n",
    "train_dataloader = generate_dataloader(train['English'], train['Obolo'], BATCH_SIZE)\n",
    "val_dataloader = generate_dataloader(val['English'], val['Obolo'], BATCH_SIZE)\n",
    "test_dataloader = generate_dataloader(test['English'], test['Obolo'], BATCH_SIZE)\n",
    "\n",
    "transformer = Seq2SeqTransformer(NUM_ENCODER_LAYERS, NUM_DECODER_LAYERS, EMB_SIZE,\n",
    "                                 NHEAD, SRC_VOCAB_SIZE, TGT_VOCAB_SIZE, FFN_HID_DIM)\n",
    "\n",
    "for p in transformer.parameters():\n",
    "    if p.dim() > 1:\n",
    "        nn.init.xavier_uniform_(p)\n",
    "\n",
    "transformer = transformer.to(DEVICE)\n",
    "\n",
    "loss_fn = torch.nn.CrossEntropyLoss(ignore_index=PAD_IDX)\n",
    "\n",
    "optimizer = torch.optim.Adam(transformer.parameters(), lr=0.0001, betas=(0.9, 0.98), eps=1e-9)\n",
    "# optimizer = torch.optim.Adam(transformer.parameters(), lr=0.0005, betas=(0.9, 0.98), eps=1e-9)"
   ]
  },
  {
   "cell_type": "code",
   "execution_count": 7,
   "metadata": {},
   "outputs": [
    {
     "data": {
      "text/plain": [
       "Seq2SeqTransformer(\n",
       "  (transformer): Transformer(\n",
       "    (encoder): TransformerEncoder(\n",
       "      (layers): ModuleList(\n",
       "        (0-2): 3 x TransformerEncoderLayer(\n",
       "          (self_attn): MultiheadAttention(\n",
       "            (out_proj): NonDynamicallyQuantizableLinear(in_features=512, out_features=512, bias=True)\n",
       "          )\n",
       "          (linear1): Linear(in_features=512, out_features=512, bias=True)\n",
       "          (dropout): Dropout(p=0.1, inplace=False)\n",
       "          (linear2): Linear(in_features=512, out_features=512, bias=True)\n",
       "          (norm1): LayerNorm((512,), eps=1e-05, elementwise_affine=True)\n",
       "          (norm2): LayerNorm((512,), eps=1e-05, elementwise_affine=True)\n",
       "          (dropout1): Dropout(p=0.1, inplace=False)\n",
       "          (dropout2): Dropout(p=0.1, inplace=False)\n",
       "        )\n",
       "      )\n",
       "      (norm): LayerNorm((512,), eps=1e-05, elementwise_affine=True)\n",
       "    )\n",
       "    (decoder): TransformerDecoder(\n",
       "      (layers): ModuleList(\n",
       "        (0-2): 3 x TransformerDecoderLayer(\n",
       "          (self_attn): MultiheadAttention(\n",
       "            (out_proj): NonDynamicallyQuantizableLinear(in_features=512, out_features=512, bias=True)\n",
       "          )\n",
       "          (multihead_attn): MultiheadAttention(\n",
       "            (out_proj): NonDynamicallyQuantizableLinear(in_features=512, out_features=512, bias=True)\n",
       "          )\n",
       "          (linear1): Linear(in_features=512, out_features=512, bias=True)\n",
       "          (dropout): Dropout(p=0.1, inplace=False)\n",
       "          (linear2): Linear(in_features=512, out_features=512, bias=True)\n",
       "          (norm1): LayerNorm((512,), eps=1e-05, elementwise_affine=True)\n",
       "          (norm2): LayerNorm((512,), eps=1e-05, elementwise_affine=True)\n",
       "          (norm3): LayerNorm((512,), eps=1e-05, elementwise_affine=True)\n",
       "          (dropout1): Dropout(p=0.1, inplace=False)\n",
       "          (dropout2): Dropout(p=0.1, inplace=False)\n",
       "          (dropout3): Dropout(p=0.1, inplace=False)\n",
       "        )\n",
       "      )\n",
       "      (norm): LayerNorm((512,), eps=1e-05, elementwise_affine=True)\n",
       "    )\n",
       "  )\n",
       "  (generator): Linear(in_features=512, out_features=7165, bias=True)\n",
       "  (src_tok_emb): TokenEmbedding(\n",
       "    (embedding): Embedding(50257, 512)\n",
       "  )\n",
       "  (tgt_tok_emb): TokenEmbedding(\n",
       "    (embedding): Embedding(7165, 512)\n",
       "  )\n",
       "  (positional_encoding): PositionalEncoding(\n",
       "    (dropout): Dropout(p=0.1, inplace=False)\n",
       "  )\n",
       ")"
      ]
     },
     "metadata": {},
     "output_type": "display_data"
    },
    {
     "data": {
      "text/plain": [
       "Adam (\n",
       "Parameter Group 0\n",
       "    amsgrad: False\n",
       "    betas: (0.9, 0.98)\n",
       "    capturable: False\n",
       "    differentiable: False\n",
       "    eps: 1e-09\n",
       "    foreach: None\n",
       "    fused: None\n",
       "    lr: 0.0001\n",
       "    maximize: False\n",
       "    weight_decay: 0\n",
       ")"
      ]
     },
     "metadata": {},
     "output_type": "display_data"
    }
   ],
   "source": [
    "display(transformer)\n",
    "display(optimizer)"
   ]
  },
  {
   "cell_type": "code",
   "execution_count": 8,
   "metadata": {},
   "outputs": [],
   "source": [
    "def train_epoch(model, optimizer):\n",
    "    model.train()\n",
    "    losses = 0\n",
    "\n",
    "    for src, tgt in tqdm(train_dataloader):\n",
    "        src = src.to(DEVICE)\n",
    "        tgt = tgt.to(DEVICE)\n",
    "\n",
    "        tgt_input = tgt[:-1, :]\n",
    "\n",
    "        src_mask, tgt_mask, src_padding_mask, tgt_padding_mask = create_mask(src, tgt_input)\n",
    "\n",
    "        logits = model(src, tgt_input, src_mask, tgt_mask, src_padding_mask, tgt_padding_mask)\n",
    "\n",
    "        optimizer.zero_grad()\n",
    "\n",
    "        tgt_out = tgt[1:, :]\n",
    "        loss = loss_fn(logits.reshape(-1, logits.shape[-1]), tgt_out.reshape(-1))\n",
    "        loss.backward()\n",
    "\n",
    "        optimizer.step()\n",
    "        losses += loss.item()\n",
    "\n",
    "        # save vram \n",
    "        del src, tgt\n",
    "        torch.cuda.empty_cache()\n",
    "\n",
    "    return losses / len(list(train_dataloader))\n",
    "\n",
    "\n",
    "def evaluate(model):\n",
    "    model.eval()\n",
    "    losses = 0\n",
    "\n",
    "    for src, tgt in val_dataloader:\n",
    "        src = src.to(DEVICE)\n",
    "        tgt = tgt.to(DEVICE)\n",
    "\n",
    "        tgt_input = tgt[:-1, :]\n",
    "\n",
    "        src_mask, tgt_mask, src_padding_mask, tgt_padding_mask = create_mask(src, tgt_input)\n",
    "\n",
    "        logits = model(src, tgt_input, src_mask, tgt_mask, src_padding_mask, tgt_padding_mask)\n",
    "\n",
    "        tgt_out = tgt[1:, :]\n",
    "        loss = loss_fn(logits.reshape(-1, logits.shape[-1]), tgt_out.reshape(-1))\n",
    "        losses += loss.item()\n",
    "\n",
    "        # save vram \n",
    "        del src, tgt\n",
    "        torch.cuda.empty_cache()\n",
    "\n",
    "    return losses / len(list(val_dataloader))"
   ]
  },
  {
   "cell_type": "code",
   "execution_count": 9,
   "metadata": {},
   "outputs": [
    {
     "name": "stderr",
     "output_type": "stream",
     "text": [
      "  0%|          | 0/438 [00:00<?, ?it/s]c:\\Users\\abhiv\\miniconda3\\envs\\cs224n-gpu\\lib\\site-packages\\torch\\nn\\functional.py:5504: UserWarning: 1Torch was not compiled with flash attention. (Triggered internally at ..\\aten\\src\\ATen\\native\\transformers\\cuda\\sdp_utils.cpp:455.)\n",
      "  attn_output = scaled_dot_product_attention(q, k, v, attn_mask, dropout_p, is_causal)\n",
      "c:\\Users\\abhiv\\miniconda3\\envs\\cs224n-gpu\\lib\\site-packages\\torch\\nn\\functional.py:5137: UserWarning: Support for mismatched key_padding_mask and attn_mask is deprecated. Use same type for both instead.\n",
      "  warnings.warn(\n",
      "100%|██████████| 438/438 [01:39<00:00,  4.38it/s]\n"
     ]
    },
    {
     "name": "stdout",
     "output_type": "stream",
     "text": [
      "Epoch: 1, Train loss: 4.373, Val loss: 3.486, Epoch time = 112.945s\n"
     ]
    },
    {
     "name": "stderr",
     "output_type": "stream",
     "text": [
      "100%|██████████| 438/438 [01:37<00:00,  4.48it/s]\n"
     ]
    },
    {
     "name": "stdout",
     "output_type": "stream",
     "text": [
      "Epoch: 2, Train loss: 3.315, Val loss: 3.061, Epoch time = 111.190s\n"
     ]
    },
    {
     "name": "stderr",
     "output_type": "stream",
     "text": [
      "100%|██████████| 438/438 [01:38<00:00,  4.43it/s]\n"
     ]
    },
    {
     "name": "stdout",
     "output_type": "stream",
     "text": [
      "Epoch: 3, Train loss: 2.978, Val loss: 2.794, Epoch time = 112.308s\n"
     ]
    },
    {
     "name": "stderr",
     "output_type": "stream",
     "text": [
      "100%|██████████| 438/438 [01:37<00:00,  4.48it/s]\n"
     ]
    },
    {
     "name": "stdout",
     "output_type": "stream",
     "text": [
      "Epoch: 4, Train loss: 2.743, Val loss: 2.621, Epoch time = 111.328s\n"
     ]
    },
    {
     "name": "stderr",
     "output_type": "stream",
     "text": [
      "100%|██████████| 438/438 [01:38<00:00,  4.46it/s]\n"
     ]
    },
    {
     "name": "stdout",
     "output_type": "stream",
     "text": [
      "Epoch: 5, Train loss: 2.560, Val loss: 2.488, Epoch time = 111.719s\n"
     ]
    },
    {
     "name": "stderr",
     "output_type": "stream",
     "text": [
      "100%|██████████| 438/438 [01:37<00:00,  4.47it/s]\n"
     ]
    },
    {
     "name": "stdout",
     "output_type": "stream",
     "text": [
      "Epoch: 6, Train loss: 2.411, Val loss: 2.387, Epoch time = 111.201s\n"
     ]
    },
    {
     "name": "stderr",
     "output_type": "stream",
     "text": [
      "100%|██████████| 438/438 [01:37<00:00,  4.50it/s]\n"
     ]
    },
    {
     "name": "stdout",
     "output_type": "stream",
     "text": [
      "Epoch: 7, Train loss: 2.288, Val loss: 2.309, Epoch time = 110.708s\n"
     ]
    },
    {
     "name": "stderr",
     "output_type": "stream",
     "text": [
      "100%|██████████| 438/438 [01:37<00:00,  4.51it/s]\n"
     ]
    },
    {
     "name": "stdout",
     "output_type": "stream",
     "text": [
      "Epoch: 8, Train loss: 2.182, Val loss: 2.244, Epoch time = 110.113s\n"
     ]
    },
    {
     "name": "stderr",
     "output_type": "stream",
     "text": [
      "100%|██████████| 438/438 [01:37<00:00,  4.50it/s]\n"
     ]
    },
    {
     "name": "stdout",
     "output_type": "stream",
     "text": [
      "Epoch: 9, Train loss: 2.091, Val loss: 2.190, Epoch time = 110.604s\n"
     ]
    },
    {
     "name": "stderr",
     "output_type": "stream",
     "text": [
      "100%|██████████| 438/438 [01:37<00:00,  4.51it/s]\n"
     ]
    },
    {
     "name": "stdout",
     "output_type": "stream",
     "text": [
      "Epoch: 10, Train loss: 2.009, Val loss: 2.156, Epoch time = 110.295s\n"
     ]
    },
    {
     "name": "stderr",
     "output_type": "stream",
     "text": [
      "100%|██████████| 438/438 [01:37<00:00,  4.51it/s]\n"
     ]
    },
    {
     "name": "stdout",
     "output_type": "stream",
     "text": [
      "Epoch: 11, Train loss: 1.936, Val loss: 2.125, Epoch time = 110.348s\n"
     ]
    },
    {
     "name": "stderr",
     "output_type": "stream",
     "text": [
      "100%|██████████| 438/438 [01:37<00:00,  4.50it/s]\n"
     ]
    },
    {
     "name": "stdout",
     "output_type": "stream",
     "text": [
      "Epoch: 12, Train loss: 1.868, Val loss: 2.098, Epoch time = 110.555s\n"
     ]
    },
    {
     "name": "stderr",
     "output_type": "stream",
     "text": [
      "100%|██████████| 438/438 [01:37<00:00,  4.50it/s]\n"
     ]
    },
    {
     "name": "stdout",
     "output_type": "stream",
     "text": [
      "Epoch: 13, Train loss: 1.808, Val loss: 2.070, Epoch time = 110.665s\n"
     ]
    },
    {
     "name": "stderr",
     "output_type": "stream",
     "text": [
      "100%|██████████| 438/438 [01:37<00:00,  4.49it/s]\n"
     ]
    },
    {
     "name": "stdout",
     "output_type": "stream",
     "text": [
      "Epoch: 14, Train loss: 1.752, Val loss: 2.052, Epoch time = 110.562s\n"
     ]
    },
    {
     "name": "stderr",
     "output_type": "stream",
     "text": [
      "100%|██████████| 438/438 [01:37<00:00,  4.51it/s]\n"
     ]
    },
    {
     "name": "stdout",
     "output_type": "stream",
     "text": [
      "Epoch: 15, Train loss: 1.698, Val loss: 2.042, Epoch time = 110.345s\n"
     ]
    },
    {
     "name": "stderr",
     "output_type": "stream",
     "text": [
      "100%|██████████| 438/438 [01:37<00:00,  4.50it/s]\n"
     ]
    },
    {
     "name": "stdout",
     "output_type": "stream",
     "text": [
      "Epoch: 16, Train loss: 1.652, Val loss: 2.024, Epoch time = 110.304s\n"
     ]
    },
    {
     "name": "stderr",
     "output_type": "stream",
     "text": [
      "100%|██████████| 438/438 [01:37<00:00,  4.51it/s]\n"
     ]
    },
    {
     "name": "stdout",
     "output_type": "stream",
     "text": [
      "Epoch: 17, Train loss: 1.604, Val loss: 2.016, Epoch time = 110.011s\n"
     ]
    },
    {
     "name": "stderr",
     "output_type": "stream",
     "text": [
      "100%|██████████| 438/438 [01:37<00:00,  4.50it/s]\n"
     ]
    },
    {
     "name": "stdout",
     "output_type": "stream",
     "text": [
      "Epoch: 18, Train loss: 1.562, Val loss: 1.995, Epoch time = 110.551s\n"
     ]
    },
    {
     "name": "stderr",
     "output_type": "stream",
     "text": [
      "100%|██████████| 438/438 [01:37<00:00,  4.51it/s]\n"
     ]
    },
    {
     "name": "stdout",
     "output_type": "stream",
     "text": [
      "Epoch: 19, Train loss: 1.522, Val loss: 1.996, Epoch time = 110.461s\n"
     ]
    },
    {
     "name": "stderr",
     "output_type": "stream",
     "text": [
      "100%|██████████| 438/438 [01:37<00:00,  4.51it/s]\n"
     ]
    },
    {
     "name": "stdout",
     "output_type": "stream",
     "text": [
      "Epoch: 20, Train loss: 1.482, Val loss: 1.997, Epoch time = 110.263s\n"
     ]
    },
    {
     "name": "stderr",
     "output_type": "stream",
     "text": [
      "100%|██████████| 438/438 [01:37<00:00,  4.50it/s]\n"
     ]
    },
    {
     "name": "stdout",
     "output_type": "stream",
     "text": [
      "Epoch: 21, Train loss: 1.444, Val loss: 2.011, Epoch time = 110.325s\n"
     ]
    },
    {
     "name": "stderr",
     "output_type": "stream",
     "text": [
      "100%|██████████| 438/438 [01:37<00:00,  4.50it/s]\n"
     ]
    },
    {
     "name": "stdout",
     "output_type": "stream",
     "text": [
      "Epoch: 22, Train loss: 1.409, Val loss: 2.024, Epoch time = 110.533s\n"
     ]
    },
    {
     "name": "stderr",
     "output_type": "stream",
     "text": [
      "100%|██████████| 438/438 [01:37<00:00,  4.49it/s]\n"
     ]
    },
    {
     "name": "stdout",
     "output_type": "stream",
     "text": [
      "Epoch: 23, Train loss: 1.375, Val loss: 2.019, Epoch time = 110.888s\n"
     ]
    },
    {
     "name": "stderr",
     "output_type": "stream",
     "text": [
      "100%|██████████| 438/438 [01:37<00:00,  4.50it/s]\n"
     ]
    },
    {
     "name": "stdout",
     "output_type": "stream",
     "text": [
      "Epoch: 24, Train loss: 1.342, Val loss: 2.015, Epoch time = 110.503s\n"
     ]
    },
    {
     "name": "stderr",
     "output_type": "stream",
     "text": [
      "100%|██████████| 438/438 [01:37<00:00,  4.49it/s]\n"
     ]
    },
    {
     "name": "stdout",
     "output_type": "stream",
     "text": [
      "Epoch: 25, Train loss: 1.308, Val loss: 2.012, Epoch time = 111.656s\n"
     ]
    },
    {
     "name": "stderr",
     "output_type": "stream",
     "text": [
      "100%|██████████| 438/438 [01:38<00:00,  4.45it/s]\n"
     ]
    },
    {
     "name": "stdout",
     "output_type": "stream",
     "text": [
      "Epoch: 26, Train loss: 1.277, Val loss: 2.009, Epoch time = 111.542s\n"
     ]
    },
    {
     "name": "stderr",
     "output_type": "stream",
     "text": [
      "100%|██████████| 438/438 [01:37<00:00,  4.51it/s]\n"
     ]
    },
    {
     "name": "stdout",
     "output_type": "stream",
     "text": [
      "Epoch: 27, Train loss: 1.247, Val loss: 2.021, Epoch time = 110.298s\n"
     ]
    },
    {
     "name": "stderr",
     "output_type": "stream",
     "text": [
      "100%|██████████| 438/438 [01:38<00:00,  4.47it/s]\n"
     ]
    },
    {
     "name": "stdout",
     "output_type": "stream",
     "text": [
      "Epoch: 28, Train loss: 1.217, Val loss: 2.028, Epoch time = 111.084s\n"
     ]
    },
    {
     "name": "stderr",
     "output_type": "stream",
     "text": [
      "100%|██████████| 438/438 [01:37<00:00,  4.51it/s]\n"
     ]
    },
    {
     "name": "stdout",
     "output_type": "stream",
     "text": [
      "Epoch: 29, Train loss: 1.190, Val loss: 2.029, Epoch time = 110.172s\n"
     ]
    },
    {
     "name": "stderr",
     "output_type": "stream",
     "text": [
      "100%|██████████| 438/438 [01:37<00:00,  4.51it/s]\n"
     ]
    },
    {
     "name": "stdout",
     "output_type": "stream",
     "text": [
      "Epoch: 30, Train loss: 1.163, Val loss: 2.044, Epoch time = 110.358s\n"
     ]
    },
    {
     "name": "stderr",
     "output_type": "stream",
     "text": [
      "100%|██████████| 438/438 [01:37<00:00,  4.50it/s]\n"
     ]
    },
    {
     "name": "stdout",
     "output_type": "stream",
     "text": [
      "Epoch: 31, Train loss: 1.135, Val loss: 2.062, Epoch time = 110.845s\n"
     ]
    },
    {
     "name": "stderr",
     "output_type": "stream",
     "text": [
      "100%|██████████| 438/438 [01:37<00:00,  4.51it/s]\n"
     ]
    },
    {
     "name": "stdout",
     "output_type": "stream",
     "text": [
      "Epoch: 32, Train loss: 1.110, Val loss: 2.064, Epoch time = 110.354s\n"
     ]
    },
    {
     "name": "stderr",
     "output_type": "stream",
     "text": [
      "100%|██████████| 438/438 [01:37<00:00,  4.51it/s]\n"
     ]
    },
    {
     "name": "stdout",
     "output_type": "stream",
     "text": [
      "Epoch: 33, Train loss: 1.087, Val loss: 2.077, Epoch time = 110.353s\n"
     ]
    },
    {
     "name": "stderr",
     "output_type": "stream",
     "text": [
      "100%|██████████| 438/438 [01:37<00:00,  4.51it/s]\n"
     ]
    },
    {
     "name": "stdout",
     "output_type": "stream",
     "text": [
      "Epoch: 34, Train loss: 1.062, Val loss: 2.090, Epoch time = 110.022s\n"
     ]
    },
    {
     "name": "stderr",
     "output_type": "stream",
     "text": [
      "100%|██████████| 438/438 [01:37<00:00,  4.51it/s]\n"
     ]
    },
    {
     "name": "stdout",
     "output_type": "stream",
     "text": [
      "Epoch: 35, Train loss: 1.039, Val loss: 2.103, Epoch time = 110.180s\n"
     ]
    },
    {
     "name": "stderr",
     "output_type": "stream",
     "text": [
      "100%|██████████| 438/438 [01:37<00:00,  4.51it/s]\n"
     ]
    },
    {
     "name": "stdout",
     "output_type": "stream",
     "text": [
      "Epoch: 36, Train loss: 1.017, Val loss: 2.118, Epoch time = 110.455s\n"
     ]
    },
    {
     "name": "stderr",
     "output_type": "stream",
     "text": [
      "100%|██████████| 438/438 [01:37<00:00,  4.51it/s]\n"
     ]
    },
    {
     "name": "stdout",
     "output_type": "stream",
     "text": [
      "Epoch: 37, Train loss: 0.994, Val loss: 2.120, Epoch time = 110.172s\n"
     ]
    },
    {
     "name": "stderr",
     "output_type": "stream",
     "text": [
      "100%|██████████| 438/438 [01:37<00:00,  4.51it/s]\n"
     ]
    },
    {
     "name": "stdout",
     "output_type": "stream",
     "text": [
      "Epoch: 38, Train loss: 0.974, Val loss: 2.146, Epoch time = 110.157s\n"
     ]
    },
    {
     "name": "stderr",
     "output_type": "stream",
     "text": [
      "100%|██████████| 438/438 [01:37<00:00,  4.50it/s]\n"
     ]
    },
    {
     "name": "stdout",
     "output_type": "stream",
     "text": [
      "Epoch: 39, Train loss: 0.954, Val loss: 2.151, Epoch time = 110.203s\n"
     ]
    },
    {
     "name": "stderr",
     "output_type": "stream",
     "text": [
      "100%|██████████| 438/438 [01:37<00:00,  4.49it/s]\n"
     ]
    },
    {
     "name": "stdout",
     "output_type": "stream",
     "text": [
      "Epoch: 40, Train loss: 0.933, Val loss: 2.167, Epoch time = 110.642s\n"
     ]
    },
    {
     "name": "stderr",
     "output_type": "stream",
     "text": [
      "100%|██████████| 438/438 [01:37<00:00,  4.51it/s]\n"
     ]
    },
    {
     "name": "stdout",
     "output_type": "stream",
     "text": [
      "Epoch: 41, Train loss: 0.914, Val loss: 2.189, Epoch time = 110.146s\n"
     ]
    },
    {
     "name": "stderr",
     "output_type": "stream",
     "text": [
      "100%|██████████| 438/438 [01:37<00:00,  4.50it/s]\n"
     ]
    },
    {
     "name": "stdout",
     "output_type": "stream",
     "text": [
      "Epoch: 42, Train loss: 0.893, Val loss: 2.199, Epoch time = 110.371s\n"
     ]
    },
    {
     "name": "stderr",
     "output_type": "stream",
     "text": [
      "100%|██████████| 438/438 [01:37<00:00,  4.49it/s]\n"
     ]
    },
    {
     "name": "stdout",
     "output_type": "stream",
     "text": [
      "Epoch: 43, Train loss: 0.875, Val loss: 2.224, Epoch time = 110.657s\n"
     ]
    },
    {
     "name": "stderr",
     "output_type": "stream",
     "text": [
      "100%|██████████| 438/438 [01:37<00:00,  4.47it/s]\n"
     ]
    },
    {
     "name": "stdout",
     "output_type": "stream",
     "text": [
      "Epoch: 44, Train loss: 0.856, Val loss: 2.232, Epoch time = 111.088s\n"
     ]
    },
    {
     "name": "stderr",
     "output_type": "stream",
     "text": [
      "100%|██████████| 438/438 [01:38<00:00,  4.46it/s]\n"
     ]
    },
    {
     "name": "stdout",
     "output_type": "stream",
     "text": [
      "Epoch: 45, Train loss: 0.840, Val loss: 2.254, Epoch time = 111.334s\n"
     ]
    },
    {
     "name": "stderr",
     "output_type": "stream",
     "text": [
      "100%|██████████| 438/438 [01:37<00:00,  4.47it/s]\n"
     ]
    },
    {
     "name": "stdout",
     "output_type": "stream",
     "text": [
      "Epoch: 46, Train loss: 0.822, Val loss: 2.268, Epoch time = 111.278s\n"
     ]
    },
    {
     "name": "stderr",
     "output_type": "stream",
     "text": [
      "100%|██████████| 438/438 [01:38<00:00,  4.47it/s]\n"
     ]
    },
    {
     "name": "stdout",
     "output_type": "stream",
     "text": [
      "Epoch: 47, Train loss: 0.805, Val loss: 2.282, Epoch time = 111.295s\n"
     ]
    },
    {
     "name": "stderr",
     "output_type": "stream",
     "text": [
      "100%|██████████| 438/438 [01:37<00:00,  4.47it/s]\n"
     ]
    },
    {
     "name": "stdout",
     "output_type": "stream",
     "text": [
      "Epoch: 48, Train loss: 0.789, Val loss: 2.286, Epoch time = 111.069s\n"
     ]
    },
    {
     "name": "stderr",
     "output_type": "stream",
     "text": [
      "100%|██████████| 438/438 [01:37<00:00,  4.48it/s]\n"
     ]
    },
    {
     "name": "stdout",
     "output_type": "stream",
     "text": [
      "Epoch: 49, Train loss: 0.772, Val loss: 2.312, Epoch time = 111.002s\n"
     ]
    },
    {
     "name": "stderr",
     "output_type": "stream",
     "text": [
      "100%|██████████| 438/438 [01:37<00:00,  4.47it/s]\n"
     ]
    },
    {
     "name": "stdout",
     "output_type": "stream",
     "text": [
      "Epoch: 50, Train loss: 0.759, Val loss: 2.321, Epoch time = 111.156s\n"
     ]
    }
   ],
   "source": [
    "from timeit import default_timer as timer\n",
    "\n",
    "# NUM_EPOCHS = 10\n",
    "NUM_EPOCHS = 50 \n",
    "\n",
    "train_losses = []\n",
    "val_losses = []\n",
    "for epoch in range(1, NUM_EPOCHS+1):\n",
    "    start_time = timer()\n",
    "    train_loss = train_epoch(transformer, optimizer)\n",
    "    end_time = timer()\n",
    "    val_loss = evaluate(transformer)\n",
    "    train_losses.append(train_loss)\n",
    "    val_losses.append(val_loss)\n",
    "    print((f\"Epoch: {epoch}, Train loss: {train_loss:.3f}, Val loss: {val_loss:.3f}, \"f\"Epoch time = {(end_time - start_time):.3f}s\"))\n",
    "    if epoch % 5 == 0:\n",
    "        torch.save(transformer, f'checkpoints/transformer_english_to_obolo_custom_{epoch}_epochs.pt')"
   ]
  },
  {
   "cell_type": "code",
   "execution_count": 10,
   "metadata": {},
   "outputs": [
    {
     "data": {
      "image/png": "[encoded data removed]",
      "text/plain": [
       "<Figure size 640x480 with 1 Axes>"
      ]
     },
     "metadata": {},
     "output_type": "display_data"
    }
   ],
   "source": [
    "import matplotlib.pyplot as plt \n",
    "import numpy as np\n",
    "\n",
    "plt.plot(train_losses, label='train')\n",
    "plt.plot(val_losses, label='val')\n",
    "plt.legend()\n",
    "plt.title('Training and Validation Losses')\n",
    "plt.xlabel('Epochs')\n",
    "plt.show()"
   ]
  },
  {
   "cell_type": "code",
   "execution_count": 29,
   "metadata": {},
   "outputs": [],
   "source": [
    "torch.save(transformer.state_dict(), 'transformer_obolo_to_english_custom_dict.pt')"
   ]
  },
  {
   "cell_type": "code",
   "execution_count": 30,
   "metadata": {},
   "outputs": [],
   "source": [
    "torch.save(transformer, 'transformer_obolo_to_english_custom.pt')"
   ]
  },
  {
   "cell_type": "code",
   "execution_count": 31,
   "metadata": {},
   "outputs": [
    {
     "data": {
      "text/plain": [
       "Seq2SeqTransformer(\n",
       "  (transformer): Transformer(\n",
       "    (encoder): TransformerEncoder(\n",
       "      (layers): ModuleList(\n",
       "        (0-2): 3 x TransformerEncoderLayer(\n",
       "          (self_attn): MultiheadAttention(\n",
       "            (out_proj): NonDynamicallyQuantizableLinear(in_features=512, out_features=512, bias=True)\n",
       "          )\n",
       "          (linear1): Linear(in_features=512, out_features=512, bias=True)\n",
       "          (dropout): Dropout(p=0.1, inplace=False)\n",
       "          (linear2): Linear(in_features=512, out_features=512, bias=True)\n",
       "          (norm1): LayerNorm((512,), eps=1e-05, elementwise_affine=True)\n",
       "          (norm2): LayerNorm((512,), eps=1e-05, elementwise_affine=True)\n",
       "          (dropout1): Dropout(p=0.1, inplace=False)\n",
       "          (dropout2): Dropout(p=0.1, inplace=False)\n",
       "        )\n",
       "      )\n",
       "      (norm): LayerNorm((512,), eps=1e-05, elementwise_affine=True)\n",
       "    )\n",
       "    (decoder): TransformerDecoder(\n",
       "      (layers): ModuleList(\n",
       "        (0-2): 3 x TransformerDecoderLayer(\n",
       "          (self_attn): MultiheadAttention(\n",
       "            (out_proj): NonDynamicallyQuantizableLinear(in_features=512, out_features=512, bias=True)\n",
       "          )\n",
       "          (multihead_attn): MultiheadAttention(\n",
       "            (out_proj): NonDynamicallyQuantizableLinear(in_features=512, out_features=512, bias=True)\n",
       "          )\n",
       "          (linear1): Linear(in_features=512, out_features=512, bias=True)\n",
       "          (dropout): Dropout(p=0.1, inplace=False)\n",
       "          (linear2): Linear(in_features=512, out_features=512, bias=True)\n",
       "          (norm1): LayerNorm((512,), eps=1e-05, elementwise_affine=True)\n",
       "          (norm2): LayerNorm((512,), eps=1e-05, elementwise_affine=True)\n",
       "          (norm3): LayerNorm((512,), eps=1e-05, elementwise_affine=True)\n",
       "          (dropout1): Dropout(p=0.1, inplace=False)\n",
       "          (dropout2): Dropout(p=0.1, inplace=False)\n",
       "          (dropout3): Dropout(p=0.1, inplace=False)\n",
       "        )\n",
       "      )\n",
       "      (norm): LayerNorm((512,), eps=1e-05, elementwise_affine=True)\n",
       "    )\n",
       "  )\n",
       "  (generator): Linear(in_features=512, out_features=50257, bias=True)\n",
       "  (src_tok_emb): TokenEmbedding(\n",
       "    (embedding): Embedding(6864, 512)\n",
       "  )\n",
       "  (tgt_tok_emb): TokenEmbedding(\n",
       "    (embedding): Embedding(50257, 512)\n",
       "  )\n",
       "  (positional_encoding): PositionalEncoding(\n",
       "    (dropout): Dropout(p=0.1, inplace=False)\n",
       "  )\n",
       ")"
      ]
     },
     "execution_count": 31,
     "metadata": {},
     "output_type": "execute_result"
    }
   ],
   "source": [
    "m=torch.load('transformer_obolo_to_english_custom.pt')\n",
    "m"
   ]
  },
  {
   "cell_type": "code",
   "execution_count": 17,
   "metadata": {},
   "outputs": [],
   "source": [
    "# function to generate output sequence using greedy algorithm\n",
    "def greedy_decode(model, src, src_mask, max_len, start_symbol):\n",
    "    src = src.to(DEVICE)\n",
    "    src_mask = src_mask.to(DEVICE)\n",
    "\n",
    "    memory = model.encode(src, src_mask)\n",
    "    ys = torch.ones(1, 1).fill_(start_symbol).type(torch.long).to(DEVICE)\n",
    "    for i in range(max_len-1):\n",
    "        memory = memory.to(DEVICE)\n",
    "        tgt_mask = (generate_square_subsequent_mask(ys.size(0))\n",
    "                    .type(torch.bool)).to(DEVICE)\n",
    "        out = model.decode(ys, memory, tgt_mask)\n",
    "        # print(out)\n",
    "        # print(english_tokenizer.decode(out))\n",
    "        out = out.transpose(0, 1)\n",
    "        prob = model.generator(out[:, -1])\n",
    "        _, next_word = torch.max(prob, dim=1)\n",
    "        next_word = next_word.item()\n",
    "        # print(next_word)\n",
    "        ys = torch.cat([ys,\n",
    "                        torch.ones(1, 1).type_as(src.data).fill_(next_word)], dim=0)\n",
    "        # save vram\n",
    "        del tgt_mask\n",
    "        torch.cuda.empty_cache()\n",
    "        if next_word == EOS_IDX:\n",
    "            break\n",
    "    return ys\n",
    "\n",
    "\n",
    "# # actual function to translate input sentence into target language\n",
    "# def translate(model: torch.nn.Module, src_sentence: str):\n",
    "#     model.eval()\n",
    "#     src = text_transform[SRC_LANGUAGE](src_sentence).view(-1, 1)\n",
    "#     num_tokens = src.shape[0]\n",
    "#     src_mask = (torch.zeros(num_tokens, num_tokens)).type(torch.bool)\n",
    "#     tgt_tokens = greedy_decode(\n",
    "#         model,  src, src_mask, max_len=num_tokens + 5, start_symbol=BOS_IDX).flatten()\n",
    "    \n",
    "#     return token_transform[TGT_LANGUAGE].decode(tgt_tokens[1:-1])\n",
    "#     return \" \".join(vocab_transform[TGT_LANGUAGE].lookup_tokens(list(tgt_tokens.cpu().numpy()))).replace(\"[CLS]\", \"\").replace(\"[SEP]\", \"\")\n",
    "\n",
    "# actual function to translate input sentence into target language\n",
    "from custom_tokenizers.detokenizer import detokenize\n",
    "reverse_vocab = {}\n",
    "for k, v in vocab_transform[TGT_LANGUAGE].items():\n",
    "    reverse_vocab[v]=k\n",
    "def translate(model: torch.nn.Module, src_sentence: str):\n",
    "    model.eval()\n",
    "    src = text_transform[SRC_LANGUAGE](src_sentence).view(-1, 1)\n",
    "    num_tokens = src.shape[0]\n",
    "    src_mask = (torch.zeros(num_tokens, num_tokens)).type(torch.bool)\n",
    "    tgt_tokens = greedy_decode(\n",
    "        model,  src, src_mask, max_len=num_tokens + 5, start_symbol=BOS_IDX).flatten()\n",
    "    \n",
    "    # return token_transform[TGT_LANGUAGE].decode(tgt_tokens[1:-1])\n",
    "    token_list = [reverse_vocab[id] for id in list(tgt_tokens[1:-1].cpu().numpy())]\n",
    "    return detokenize(token_list)\n",
    "    return \" \".join(vocab_transform[TGT_LANGUAGE].lookup_tokens(list(tgt_tokens.cpu().numpy()))).replace(\"[CLS]\", \"\").replace(\"[SEP]\", \"\")\n"
   ]
  },
  {
   "cell_type": "code",
   "execution_count": 4,
   "metadata": {},
   "outputs": [
    {
     "name": "stdout",
     "output_type": "stream",
     "text": [
      "['korajin', 'ukọ', 'mêkana']\n",
      "korajin ukọ mêkana\n",
      "7165\n"
     ]
    }
   ],
   "source": [
    "from custom_tokenizers.detokenizer import detokenize\n",
    "tgt_tokens = [1, 400, 4003, 5678, 2]\n",
    "reverse_vocab = {}\n",
    "for k, v in vocab_transform[TGT_LANGUAGE].items():\n",
    "    reverse_vocab[v]=k\n",
    "token_list = [reverse_vocab[v] for v in tgt_tokens[1:-1]]\n",
    "print(token_list)\n",
    "print(detokenize(token_list))\n",
    "print(len(reverse_vocab))"
   ]
  },
  {
   "cell_type": "code",
   "execution_count": 35,
   "metadata": {},
   "outputs": [],
   "source": [
    "# src_sentence = \"ire, emi okumugwem mâtap oke me etete anam ebi ijeren mè echi ebi ijipiti. anam geege me etete echi ebi ijeren ìkpokwu\"\n",
    "# src = text_transform[SRC_LANGUAGE](src_sentence).view(-1, 1)\n",
    "# print(list(src.numpy().flatten()), src.shape)\n",
    "# print(token_transform[SRC_LANGUAGE].decode(src.numpy().flatten()))"
   ]
  },
  {
   "cell_type": "code",
   "execution_count": 41,
   "metadata": {},
   "outputs": [
    {
     "name": "stdout",
     "output_type": "stream",
     "text": [
      "mgbọ yaage îmun̄be ife chi egwookbe, ibebene ikaan̄ ulọk me lek kiban̄, mè iria osat isi lek kiban̄ me kalidia.\n",
      "and it came to pass, when they saw that they had seen, that they sent to the sea, and sent them to the chaldeans, and sent to the chaldeans.\n",
      "and as soon as she saw them with her eyes, she doted upon them, and sent messengers unto them into chaldea.\n"
     ]
    }
   ],
   "source": [
    "ob, en = test['Obolo'][100], test['English'][100]\n",
    "print(ob)\n",
    "print(translate(m, ob))\n",
    "print(en)"
   ]
  },
  {
   "cell_type": "code",
   "execution_count": 10,
   "metadata": {
    "notebookRunGroups": {
     "groupValue": "2"
    }
   },
   "outputs": [
    {
     "name": "stdout",
     "output_type": "stream",
     "text": [
      "and the king said, and where [is] thy master’s son? and ziba said unto the king, behold, he abideth at jerusalem: for he said, to day shall the house of israel restore me the kingdom of my father.\n",
      "and the king said unto the woman, how [is] this thy son, that he may be done unto this house of israel? and he said, nay; for the son of man, i will surely rend the kingdom from the kingdom of israel.\n",
      "which i commanded your fathers in the day [that] i brought them forth out of the land of egypt, from the iron furnace, saying, obey my voice, and do them, according to all which i command you: so shall ye be my people, and i will be your god:\n",
      "and i have made my covenant with your fathers in egypt, and i have made an end of speaking unto them: i have not commanded them that they should make my two eyes to be my gods.\n",
      "blessed [are]\n"
     ]
    }
   ],
   "source": [
    "sentence = \"ogwu ubọọn̄ oneniyaka ido siba ibe, “sà gwun̄ nte uwu kwun̄ ìkup me owa?” siba ofọfọọk ibe ke ọmọ òwa me jeruselem okupbe, mije, ìkikeek ibe, usini mgbọ, cherekeyi, ke ebi uwu kè ijeren mêniyaka irek mkpulu nte nte kan̄ inyi ọmọ.\"\n",
    "\n",
    "ob_train_sent = \"ogwu ubọọn̄ oneniyaka ido siba ibe, “sà gwun̄ nte uwu kwun̄ ìkup me owa?” siba ofọfọọk ibe ke ọmọ òwa me jeruselem okupbe, mije, ìkikeek ibe, usini mgbọ, cherekeyi, ke ebi uwu kè ijeren mêniyaka irek mkpulu nte nte kan̄ inyi ọmọ.\"\n",
    "en_train_sent = \"and the king said, and where [is] thy master’s son? and ziba said unto the king, behold, he abideth at jerusalem: for he said, to day shall the house of israel restore me the kingdom of my father.\"\n",
    "print(en_train_sent)\n",
    "print(translate(transformer, ob_train_sent))\n",
    "ob_test_sent = \"eyi nnyibe ebi nte nte kinyi ida ibe esun̄, mgbọ nsan̄abe ema isibi me ijipiti, me emen ukan̄ ikala okwukwut.” mgbọ ya, ntumu inyi ema ibe, “ìgban̄ utọn̄ me ida n̄a, mè ìrọ inu geelek ntọbe inyi enyi, ke enyi mêre ebi n̄a, emi nrere awaji kinyi.\"\n",
    "en_test_sent = \"which i commanded your fathers in the day [that] i brought them forth out of the land of egypt, from the iron furnace, saying, obey my voice, and do them, according to all which i command you: so shall ye be my people, and i will be your god:\"\n",
    "print(en_test_sent)\n",
    "print(translate(transformer, ob_test_sent))\n",
    "print(translate(transformer, 'Jisọs'))"
   ]
  },
  {
   "cell_type": "markdown",
   "metadata": {},
   "source": [
    "MAKE TRANSLATE ACTUALLY WORK !!!"
   ]
  },
  {
   "cell_type": "code",
   "execution_count": 13,
   "metadata": {},
   "outputs": [
    {
     "name": "stdout",
     "output_type": "stream",
     "text": [
      "3110\n"
     ]
    }
   ],
   "source": [
    "test = load_dataset('csv', data_files='../data/test.csv')['train']\n",
    "print(len(test))"
   ]
  },
  {
   "cell_type": "code",
   "execution_count": 18,
   "metadata": {},
   "outputs": [
    {
     "name": "stderr",
     "output_type": "stream",
     "text": [
      "[nltk_data] Downloading package wordnet to\n",
      "[nltk_data]     C:\\Users\\abhiv\\AppData\\Roaming\\nltk_data...\n",
      "[nltk_data]   Package wordnet is already up-to-date!\n",
      "[nltk_data] Downloading package punkt to\n",
      "[nltk_data]     C:\\Users\\abhiv\\AppData\\Roaming\\nltk_data...\n",
      "[nltk_data]   Package punkt is already up-to-date!\n",
      "[nltk_data] Downloading package omw-1.4 to\n",
      "[nltk_data]     C:\\Users\\abhiv\\AppData\\Roaming\\nltk_data...\n",
      "[nltk_data]   Package omw-1.4 is already up-to-date!\n"
     ]
    }
   ],
   "source": [
    "chrf = load('chrf')\n",
    "gleu = load('google_bleu')\n",
    "rouge = load('rouge') \n",
    "bleu = load('bleu')\n",
    "meteor = load('meteor')\n",
    "metrics = combine([chrf, bleu, rouge, meteor, gleu])\n",
    "\n",
    "# def test_model(m):\n",
    "#     preds = []\n",
    "#     refs = []\n",
    "#     for idx in tqdm(range(len(test['Obolo']))):\n",
    "#         ob, en = test['Obolo'][idx], test['English'][idx]\n",
    "#         refs.append(en)\n",
    "#         pred = translate(m, ob)\n",
    "#         preds.append(pred)\n",
    "#     print(len(preds), len(refs))\n",
    "#     chrf_plusplus = chrf.compute(predictions=preds, references=refs, word_order=2)\n",
    "#     other_metrics = metrics.compute(predictions=preds, references=refs)\n",
    "#     return (chrf_plusplus, other_metrics)\n",
    "def test_model(m):\n",
    "    preds = []\n",
    "    refs = []\n",
    "    for idx in tqdm(range(len(test['Obolo']))):\n",
    "        ob, en = test['Obolo'][idx], test['English'][idx]\n",
    "        refs.append(ob)\n",
    "        pred = translate(m, en)\n",
    "        preds.append(pred)\n",
    "    print(len(preds), len(refs))\n",
    "    chrf_plusplus = chrf.compute(predictions=preds, references=refs, word_order=2)\n",
    "    other_metrics = metrics.compute(predictions=preds, references=refs)\n",
    "    return (chrf_plusplus, other_metrics)"
   ]
  },
  {
   "cell_type": "code",
   "execution_count": 19,
   "metadata": {},
   "outputs": [
    {
     "data": {
      "text/plain": [
       "Seq2SeqTransformer(\n",
       "  (transformer): Transformer(\n",
       "    (encoder): TransformerEncoder(\n",
       "      (layers): ModuleList(\n",
       "        (0-2): 3 x TransformerEncoderLayer(\n",
       "          (self_attn): MultiheadAttention(\n",
       "            (out_proj): NonDynamicallyQuantizableLinear(in_features=512, out_features=512, bias=True)\n",
       "          )\n",
       "          (linear1): Linear(in_features=512, out_features=512, bias=True)\n",
       "          (dropout): Dropout(p=0.1, inplace=False)\n",
       "          (linear2): Linear(in_features=512, out_features=512, bias=True)\n",
       "          (norm1): LayerNorm((512,), eps=1e-05, elementwise_affine=True)\n",
       "          (norm2): LayerNorm((512,), eps=1e-05, elementwise_affine=True)\n",
       "          (dropout1): Dropout(p=0.1, inplace=False)\n",
       "          (dropout2): Dropout(p=0.1, inplace=False)\n",
       "        )\n",
       "      )\n",
       "      (norm): LayerNorm((512,), eps=1e-05, elementwise_affine=True)\n",
       "    )\n",
       "    (decoder): TransformerDecoder(\n",
       "      (layers): ModuleList(\n",
       "        (0-2): 3 x TransformerDecoderLayer(\n",
       "          (self_attn): MultiheadAttention(\n",
       "            (out_proj): NonDynamicallyQuantizableLinear(in_features=512, out_features=512, bias=True)\n",
       "          )\n",
       "          (multihead_attn): MultiheadAttention(\n",
       "            (out_proj): NonDynamicallyQuantizableLinear(in_features=512, out_features=512, bias=True)\n",
       "          )\n",
       "          (linear1): Linear(in_features=512, out_features=512, bias=True)\n",
       "          (dropout): Dropout(p=0.1, inplace=False)\n",
       "          (linear2): Linear(in_features=512, out_features=512, bias=True)\n",
       "          (norm1): LayerNorm((512,), eps=1e-05, elementwise_affine=True)\n",
       "          (norm2): LayerNorm((512,), eps=1e-05, elementwise_affine=True)\n",
       "          (norm3): LayerNorm((512,), eps=1e-05, elementwise_affine=True)\n",
       "          (dropout1): Dropout(p=0.1, inplace=False)\n",
       "          (dropout2): Dropout(p=0.1, inplace=False)\n",
       "          (dropout3): Dropout(p=0.1, inplace=False)\n",
       "        )\n",
       "      )\n",
       "      (norm): LayerNorm((512,), eps=1e-05, elementwise_affine=True)\n",
       "    )\n",
       "  )\n",
       "  (generator): Linear(in_features=512, out_features=7165, bias=True)\n",
       "  (src_tok_emb): TokenEmbedding(\n",
       "    (embedding): Embedding(50257, 512)\n",
       "  )\n",
       "  (tgt_tok_emb): TokenEmbedding(\n",
       "    (embedding): Embedding(7165, 512)\n",
       "  )\n",
       "  (positional_encoding): PositionalEncoding(\n",
       "    (dropout): Dropout(p=0.1, inplace=False)\n",
       "  )\n",
       ")"
      ]
     },
     "metadata": {},
     "output_type": "display_data"
    },
    {
     "name": "stderr",
     "output_type": "stream",
     "text": [
      "100%|██████████| 2610/2610 [07:35<00:00,  5.73it/s]\n"
     ]
    },
    {
     "name": "stdout",
     "output_type": "stream",
     "text": [
      "2610 2610\n"
     ]
    },
    {
     "data": {
      "text/plain": [
       "({'score': 30.516298886128602, 'char_order': 6, 'word_order': 2, 'beta': 2},\n",
       " {'score': 32.45739209424741,\n",
       "  'char_order': 6,\n",
       "  'word_order': 0,\n",
       "  'beta': 2,\n",
       "  'bleu': 0.08514677345229262,\n",
       "  'precisions': [0.4488691700032464,\n",
       "   0.1768126681379577,\n",
       "   0.07375519195520204,\n",
       "   0.03397998487433385],\n",
       "  'brevity_penalty': 0.7169782181115002,\n",
       "  'length_ratio': 0.750350891438249,\n",
       "  'translation_length': 64687,\n",
       "  'reference_length': 86209,\n",
       "  'rouge1': 0.3889647026647469,\n",
       "  'rouge2': 0.16318169443437253,\n",
       "  'rougeL': 0.3200305096034983,\n",
       "  'rougeLsum': 0.32007272994949043,\n",
       "  'meteor': 0.2585001217061493,\n",
       "  'google_bleu': 0.13797724700696884})"
      ]
     },
     "metadata": {},
     "output_type": "display_data"
    },
    {
     "name": "stderr",
     "output_type": "stream",
     "text": [
      "100%|██████████| 2610/2610 [07:57<00:00,  5.47it/s]\n"
     ]
    },
    {
     "name": "stdout",
     "output_type": "stream",
     "text": [
      "2610 2610\n"
     ]
    },
    {
     "data": {
      "text/plain": [
       "({'score': 33.707072513258616, 'char_order': 6, 'word_order': 2, 'beta': 2},\n",
       " {'score': 35.69080451580043,\n",
       "  'char_order': 6,\n",
       "  'word_order': 0,\n",
       "  'beta': 2,\n",
       "  'bleu': 0.1135963998447183,\n",
       "  'precisions': [0.4733752433605303,\n",
       "   0.20679685204941478,\n",
       "   0.09910258269289639,\n",
       "   0.052861732008005785],\n",
       "  'brevity_penalty': 0.7548672974495537,\n",
       "  'length_ratio': 0.7805101555522045,\n",
       "  'translation_length': 67287,\n",
       "  'reference_length': 86209,\n",
       "  'rouge1': 0.4196666534460921,\n",
       "  'rouge2': 0.1952813313305131,\n",
       "  'rougeL': 0.3483940526167095,\n",
       "  'rougeLsum': 0.3483670493974116,\n",
       "  'meteor': 0.28754652859487134,\n",
       "  'google_bleu': 0.1612627481602423})"
      ]
     },
     "metadata": {},
     "output_type": "display_data"
    },
    {
     "name": "stderr",
     "output_type": "stream",
     "text": [
      "100%|██████████| 2610/2610 [07:13<00:00,  6.02it/s]\n"
     ]
    },
    {
     "name": "stdout",
     "output_type": "stream",
     "text": [
      "2610 2610\n"
     ]
    },
    {
     "data": {
      "text/plain": [
       "({'score': 34.76738466645053, 'char_order': 6, 'word_order': 2, 'beta': 2},\n",
       " {'score': 36.876217675446675,\n",
       "  'char_order': 6,\n",
       "  'word_order': 0,\n",
       "  'beta': 2,\n",
       "  'bleu': 0.12051817598542783,\n",
       "  'precisions': [0.4817572926764784,\n",
       "   0.21019672531769307,\n",
       "   0.10451465114059368,\n",
       "   0.05782380667861648],\n",
       "  'brevity_penalty': 0.7662456564960001,\n",
       "  'length_ratio': 0.7897319305408949,\n",
       "  'translation_length': 68082,\n",
       "  'reference_length': 86209,\n",
       "  'rouge1': 0.43024060661192864,\n",
       "  'rouge2': 0.20276996389698157,\n",
       "  'rougeL': 0.3570670160332623,\n",
       "  'rougeLsum': 0.35703934271383075,\n",
       "  'meteor': 0.2964680585451917,\n",
       "  'google_bleu': 0.16744847739157181})"
      ]
     },
     "metadata": {},
     "output_type": "display_data"
    },
    {
     "name": "stderr",
     "output_type": "stream",
     "text": [
      "100%|██████████| 2610/2610 [07:14<00:00,  6.00it/s]\n"
     ]
    },
    {
     "name": "stdout",
     "output_type": "stream",
     "text": [
      "2610 2610\n"
     ]
    },
    {
     "data": {
      "text/plain": [
       "({'score': 35.147126588596635, 'char_order': 6, 'word_order': 2, 'beta': 2},\n",
       " {'score': 37.30797055276097,\n",
       "  'char_order': 6,\n",
       "  'word_order': 0,\n",
       "  'beta': 2,\n",
       "  'bleu': 0.12211214412556817,\n",
       "  'precisions': [0.4853189785568111,\n",
       "   0.21581513019869183,\n",
       "   0.10785353778892211,\n",
       "   0.05994564123213207],\n",
       "  'brevity_penalty': 0.7569785349143128,\n",
       "  'length_ratio': 0.7822153139463397,\n",
       "  'translation_length': 67434,\n",
       "  'reference_length': 86209,\n",
       "  'rouge1': 0.43116696564966855,\n",
       "  'rouge2': 0.20530462154652435,\n",
       "  'rougeL': 0.3563588842973261,\n",
       "  'rougeLsum': 0.35639660929779743,\n",
       "  'meteor': 0.29519869143623506,\n",
       "  'google_bleu': 0.1688868872665213})"
      ]
     },
     "metadata": {},
     "output_type": "display_data"
    },
    {
     "name": "stderr",
     "output_type": "stream",
     "text": [
      "100%|██████████| 2610/2610 [07:11<00:00,  6.04it/s]\n"
     ]
    },
    {
     "name": "stdout",
     "output_type": "stream",
     "text": [
      "2610 2610\n"
     ]
    },
    {
     "data": {
      "text/plain": [
       "({'score': 35.11386248402468, 'char_order': 6, 'word_order': 2, 'beta': 2},\n",
       " {'score': 37.28254210034655,\n",
       "  'char_order': 6,\n",
       "  'word_order': 0,\n",
       "  'beta': 2,\n",
       "  'bleu': 0.12210709300738926,\n",
       "  'precisions': [0.49233295173826597,\n",
       "   0.21927623945561164,\n",
       "   0.1102373790217107,\n",
       "   0.06166535742340927],\n",
       "  'brevity_penalty': 0.7418835466763627,\n",
       "  'length_ratio': 0.770082009998956,\n",
       "  'translation_length': 66388,\n",
       "  'reference_length': 86209,\n",
       "  'rouge1': 0.4314226654070229,\n",
       "  'rouge2': 0.2073275724218821,\n",
       "  'rougeL': 0.35928689387858537,\n",
       "  'rougeLsum': 0.35902913114981283,\n",
       "  'meteor': 0.29672718439663953,\n",
       "  'google_bleu': 0.16960727160244132})"
      ]
     },
     "metadata": {},
     "output_type": "display_data"
    }
   ],
   "source": [
    "models = []\n",
    "for epoch in [10,20,30,40,50]:\n",
    "    model = torch.load(f'checkpoints/transformer_english_to_obolo_custom_{epoch}_epochs.pt').to(DEVICE)\n",
    "    models.append(model)\n",
    "display(models[0])\n",
    "scores = []\n",
    "for mod in models:\n",
    "    score = test_model(mod)\n",
    "    display(score)\n",
    "    scores.append(score) "
   ]
  },
  {
   "cell_type": "code",
   "execution_count": 20,
   "metadata": {},
   "outputs": [
    {
     "data": {
      "text/plain": [
       "[({'score': 30.516298886128602, 'char_order': 6, 'word_order': 2, 'beta': 2},\n",
       "  {'score': 32.45739209424741,\n",
       "   'char_order': 6,\n",
       "   'word_order': 0,\n",
       "   'beta': 2,\n",
       "   'bleu': 0.08514677345229262,\n",
       "   'precisions': [0.4488691700032464,\n",
       "    0.1768126681379577,\n",
       "    0.07375519195520204,\n",
       "    0.03397998487433385],\n",
       "   'brevity_penalty': 0.7169782181115002,\n",
       "   'length_ratio': 0.750350891438249,\n",
       "   'translation_length': 64687,\n",
       "   'reference_length': 86209,\n",
       "   'rouge1': 0.3889647026647469,\n",
       "   'rouge2': 0.16318169443437253,\n",
       "   'rougeL': 0.3200305096034983,\n",
       "   'rougeLsum': 0.32007272994949043,\n",
       "   'meteor': 0.2585001217061493,\n",
       "   'google_bleu': 0.13797724700696884}),\n",
       " ({'score': 33.707072513258616, 'char_order': 6, 'word_order': 2, 'beta': 2},\n",
       "  {'score': 35.69080451580043,\n",
       "   'char_order': 6,\n",
       "   'word_order': 0,\n",
       "   'beta': 2,\n",
       "   'bleu': 0.1135963998447183,\n",
       "   'precisions': [0.4733752433605303,\n",
       "    0.20679685204941478,\n",
       "    0.09910258269289639,\n",
       "    0.052861732008005785],\n",
       "   'brevity_penalty': 0.7548672974495537,\n",
       "   'length_ratio': 0.7805101555522045,\n",
       "   'translation_length': 67287,\n",
       "   'reference_length': 86209,\n",
       "   'rouge1': 0.4196666534460921,\n",
       "   'rouge2': 0.1952813313305131,\n",
       "   'rougeL': 0.3483940526167095,\n",
       "   'rougeLsum': 0.3483670493974116,\n",
       "   'meteor': 0.28754652859487134,\n",
       "   'google_bleu': 0.1612627481602423}),\n",
       " ({'score': 34.76738466645053, 'char_order': 6, 'word_order': 2, 'beta': 2},\n",
       "  {'score': 36.876217675446675,\n",
       "   'char_order': 6,\n",
       "   'word_order': 0,\n",
       "   'beta': 2,\n",
       "   'bleu': 0.12051817598542783,\n",
       "   'precisions': [0.4817572926764784,\n",
       "    0.21019672531769307,\n",
       "    0.10451465114059368,\n",
       "    0.05782380667861648],\n",
       "   'brevity_penalty': 0.7662456564960001,\n",
       "   'length_ratio': 0.7897319305408949,\n",
       "   'translation_length': 68082,\n",
       "   'reference_length': 86209,\n",
       "   'rouge1': 0.43024060661192864,\n",
       "   'rouge2': 0.20276996389698157,\n",
       "   'rougeL': 0.3570670160332623,\n",
       "   'rougeLsum': 0.35703934271383075,\n",
       "   'meteor': 0.2964680585451917,\n",
       "   'google_bleu': 0.16744847739157181}),\n",
       " ({'score': 35.147126588596635, 'char_order': 6, 'word_order': 2, 'beta': 2},\n",
       "  {'score': 37.30797055276097,\n",
       "   'char_order': 6,\n",
       "   'word_order': 0,\n",
       "   'beta': 2,\n",
       "   'bleu': 0.12211214412556817,\n",
       "   'precisions': [0.4853189785568111,\n",
       "    0.21581513019869183,\n",
       "    0.10785353778892211,\n",
       "    0.05994564123213207],\n",
       "   'brevity_penalty': 0.7569785349143128,\n",
       "   'length_ratio': 0.7822153139463397,\n",
       "   'translation_length': 67434,\n",
       "   'reference_length': 86209,\n",
       "   'rouge1': 0.43116696564966855,\n",
       "   'rouge2': 0.20530462154652435,\n",
       "   'rougeL': 0.3563588842973261,\n",
       "   'rougeLsum': 0.35639660929779743,\n",
       "   'meteor': 0.29519869143623506,\n",
       "   'google_bleu': 0.1688868872665213}),\n",
       " ({'score': 35.11386248402468, 'char_order': 6, 'word_order': 2, 'beta': 2},\n",
       "  {'score': 37.28254210034655,\n",
       "   'char_order': 6,\n",
       "   'word_order': 0,\n",
       "   'beta': 2,\n",
       "   'bleu': 0.12210709300738926,\n",
       "   'precisions': [0.49233295173826597,\n",
       "    0.21927623945561164,\n",
       "    0.1102373790217107,\n",
       "    0.06166535742340927],\n",
       "   'brevity_penalty': 0.7418835466763627,\n",
       "   'length_ratio': 0.770082009998956,\n",
       "   'translation_length': 66388,\n",
       "   'reference_length': 86209,\n",
       "   'rouge1': 0.4314226654070229,\n",
       "   'rouge2': 0.2073275724218821,\n",
       "   'rougeL': 0.35928689387858537,\n",
       "   'rougeLsum': 0.35902913114981283,\n",
       "   'meteor': 0.29672718439663953,\n",
       "   'google_bleu': 0.16960727160244132})]"
      ]
     },
     "execution_count": 20,
     "metadata": {},
     "output_type": "execute_result"
    }
   ],
   "source": [
    "scores"
   ]
  },
  {
   "cell_type": "code",
   "execution_count": 7,
   "metadata": {},
   "outputs": [
    {
     "name": "stderr",
     "output_type": "stream",
     "text": [
      "100%|██████████| 2610/2610 [08:42<00:00,  5.00it/s]\n"
     ]
    },
    {
     "name": "stdout",
     "output_type": "stream",
     "text": [
      "2610 2610\n"
     ]
    },
    {
     "data": {
      "text/plain": [
       "{'score': 33.6596090739384,\n",
       " 'char_order': 6,\n",
       " 'word_order': 0,\n",
       " 'beta': 2,\n",
       " 'bleu': 0.11152622811206186,\n",
       " 'precisions': [0.3960213311587283,\n",
       "  0.15589433362402993,\n",
       "  0.07046159791763756,\n",
       "  0.0355636772561147],\n",
       " 'brevity_penalty': 1.0,\n",
       " 'length_ratio': 1.1587775249605232,\n",
       " 'translation_length': 93197,\n",
       " 'reference_length': 80427,\n",
       " 'rouge1': 0.378588728210996,\n",
       " 'rouge2': 0.14502504247389858,\n",
       " 'rougeL': 0.32141031622794514,\n",
       " 'rougeLsum': 0.32135055941369345,\n",
       " 'meteor': 0.32787793097157697,\n",
       " 'google_bleu': 0.16055082533221088}"
      ]
     },
     "metadata": {},
     "output_type": "display_data"
    }
   ],
   "source": [
    "orig_10_epoch_custom = torch.load('transformer_obolo_to_english_custom.pt').to(DEVICE)\n",
    "score = test_model(orig_10_epoch_custom)\n",
    "display(score)"
   ]
  },
  {
   "cell_type": "code",
   "execution_count": 13,
   "metadata": {},
   "outputs": [
    {
     "name": "stdout",
     "output_type": "stream",
     "text": [
      "2610 2610\n"
     ]
    }
   ],
   "source": [
    "print(len(preds), len(refs))"
   ]
  },
  {
   "cell_type": "code",
   "execution_count": 14,
   "metadata": {},
   "outputs": [
    {
     "name": "stderr",
     "output_type": "stream",
     "text": [
      "[nltk_data] Downloading package wordnet to\n",
      "[nltk_data]     C:\\Users\\abhiv\\AppData\\Roaming\\nltk_data...\n",
      "[nltk_data]   Package wordnet is already up-to-date!\n",
      "[nltk_data] Downloading package punkt to\n",
      "[nltk_data]     C:\\Users\\abhiv\\AppData\\Roaming\\nltk_data...\n",
      "[nltk_data]   Package punkt is already up-to-date!\n",
      "[nltk_data] Downloading package omw-1.4 to\n",
      "[nltk_data]     C:\\Users\\abhiv\\AppData\\Roaming\\nltk_data...\n",
      "[nltk_data]   Package omw-1.4 is already up-to-date!\n"
     ]
    }
   ],
   "source": [
    "# metrics\n",
    "chrf = load('chrf')\n",
    "gleu = load('google_bleu')\n",
    "rouge = load('rouge') \n",
    "bleu = load('bleu')\n",
    "meteor = load('meteor')\n",
    "metrics = combine([chrf, bleu, rouge, meteor, gleu])"
   ]
  },
  {
   "cell_type": "code",
   "execution_count": 15,
   "metadata": {},
   "outputs": [
    {
     "data": {
      "text/plain": [
       "{'score': 30.43952826900615,\n",
       " 'char_order': 6,\n",
       " 'word_order': 0,\n",
       " 'beta': 2,\n",
       " 'bleu': 0.0822760096610319,\n",
       " 'precisions': [0.34278131844280896,\n",
       "  0.11676725534672716,\n",
       "  0.04780428948846498,\n",
       "  0.023949022794337766],\n",
       " 'brevity_penalty': 1.0,\n",
       " 'length_ratio': 1.2602981585785868,\n",
       " 'translation_length': 101362,\n",
       " 'reference_length': 80427,\n",
       " 'rouge1': 0.3352499302267455,\n",
       " 'rouge2': 0.11275906915007564,\n",
       " 'rougeL': 0.27644615250839405,\n",
       " 'rougeLsum': 0.2763975206470654,\n",
       " 'meteor': 0.28851067939375274,\n",
       " 'google_bleu': 0.13259436788496107}"
      ]
     },
     "execution_count": 15,
     "metadata": {},
     "output_type": "execute_result"
    }
   ],
   "source": [
    "scores = metrics.compute(predictions=preds, references=refs)\n",
    "scores"
   ]
  }
 ],
 "metadata": {
  "kernelspec": {
   "display_name": "cs224n-gpu",
   "language": "python",
   "name": "python3"
  },
  "language_info": {
   "codemirror_mode": {
    "name": "ipython",
    "version": 3
   },
   "file_extension": ".py",
   "mimetype": "text/x-python",
   "name": "python",
   "nbconvert_exporter": "python",
   "pygments_lexer": "ipython3",
   "version": "3.10.0"
  }
 },
 "nbformat": 4,
 "nbformat_minor": 2
}
