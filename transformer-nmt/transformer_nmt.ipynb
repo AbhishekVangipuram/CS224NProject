{
 "cells": [
  {
   "cell_type": "code",
   "execution_count": 1,
   "metadata": {},
   "outputs": [],
   "source": [
    "import torch\n",
    "from torch import nn\n",
    "from transformers import PreTrainedTokenizerFast, AutoTokenizer\n",
    "from datasets import load_dataset\n",
    "from evaluate import load, combine\n",
    "from tqdm import tqdm\n",
    "    \n",
    "from transformer import *\n",
    "from dataset import *\n",
    "\n",
    "from numba import cuda\n",
    "device = cuda.get_current_device()\n",
    "device.reset() "
   ]
  },
  {
   "cell_type": "code",
   "execution_count": 2,
   "metadata": {},
   "outputs": [
    {
     "name": "stdout",
     "output_type": "stream",
     "text": [
      "7150\n",
      "50257\n",
      "cuda\n",
      "en ob\n"
     ]
    }
   ],
   "source": [
    "# get data \n",
    "train = load_dataset('csv', data_files='../data/train.csv')['train']\n",
    "test = load_dataset('csv', data_files='../data/test.csv')['train']\n",
    "VAL_CUTOFF = 500 # random choice for val loss, full test set is 3110, take 500 away for validation only. \n",
    "val = test[:VAL_CUTOFF]\n",
    "test = test[VAL_CUTOFF:]\n",
    "\n",
    "\n",
    "# obolo_tokenizer = PreTrainedTokenizerFast(tokenizer_file='../custom_tokenizers/obolo-bpe-tokenizer.json', padding='left')\n",
    "obolo_tokenizer = PreTrainedTokenizerFast(tokenizer_file='../custom_tokenizers/obolo-bpe-tokenizer-small.json', padding='left')\n",
    "# obolo_tokenizer = PreTrainedTokenizerFast(tokenizer_file='../custom_tokenizers/obolo-wordpiece-tokenizer-small.json', padding='left')\n",
    "# obolo_tokenizer = PreTrainedTokenizerFast(tokenizer_file='../custom_tokenizers/custom_plus_bpe_obolo_tokenizer/tokenizer.json', padding='left')\n",
    "english_tokenizer = AutoTokenizer.from_pretrained('gpt2', padding='left')\n",
    "\n",
    "# print(obolo_tokenizer.vocab_size)\n",
    "print(len(obolo_tokenizer))\n",
    "# print(english_tokenizer.vocab_size)\n",
    "print(len(english_tokenizer))\n",
    "print(DEVICE)\n",
    "\n",
    "token_transform = {}\n",
    "vocab_transform = {}\n",
    "\n",
    "# token_transform[SRC_LANGUAGE] = obolo_tokenizer\n",
    "# token_transform[TGT_LANGUAGE] = english_tokenizer\n",
    "\n",
    "# vocab_transform[SRC_LANGUAGE] = obolo_tokenizer.vocab \n",
    "# vocab_transform[TGT_LANGUAGE] = english_tokenizer.vocab\n",
    "\n",
    "SRC_LANGUAGE = 'en'\n",
    "TGT_LANGUAGE = 'ob'\n",
    "token_transform[SRC_LANGUAGE] = english_tokenizer\n",
    "token_transform[TGT_LANGUAGE] = obolo_tokenizer\n",
    "\n",
    "vocab_transform[SRC_LANGUAGE] = english_tokenizer.vocab \n",
    "vocab_transform[TGT_LANGUAGE] = english_tokenizer.vocab\n",
    "\n",
    "# for ln in [SRC_LANGUAGE, TGT_LANGUAGE]:\n",
    "#   vocab_transform[ln].set_default_index(UNK_IDX)\n",
    "init_text_transform(token_transform, SRC_LANGUAGE, TGT_LANGUAGE)\n",
    "# now this BPE tokenizer is also equipped with a decoder, so we should be able to do Obolo -> English and English -> Obolo"
   ]
  },
  {
   "cell_type": "code",
   "execution_count": 3,
   "metadata": {},
   "outputs": [],
   "source": [
    "# ob_sent, en_sent = train['Obolo'][0], train['English'][0]\n",
    "# print(ob_sent)\n",
    "# print(obolo_tokenizer(ob_sent))\n",
    "# print(text_transform[SRC_LANGUAGE](ob_sent))\n",
    "# print(obolo_tokenizer(ob_sent)['input_ids'] == list(text_transform[SRC_LANGUAGE](ob_sent))[1:-1])\n",
    "# print(en_sent)\n",
    "# print(text_transform[TGT_LANGUAGE](en_sent))"
   ]
  },
  {
   "cell_type": "code",
   "execution_count": 3,
   "metadata": {},
   "outputs": [
    {
     "name": "stderr",
     "output_type": "stream",
     "text": [
      "c:\\Users\\abhiv\\miniconda3\\envs\\cs224n-gpu\\lib\\site-packages\\torch\\nn\\modules\\transformer.py:306: UserWarning: enable_nested_tensor is True, but self.use_nested_tensor is False because encoder_layer.self_attn.batch_first was not True(use batch_first for better inference performance)\n",
      "  warnings.warn(f\"enable_nested_tensor is True, but self.use_nested_tensor is False because {why_not_sparsity_fast_path}\")\n"
     ]
    }
   ],
   "source": [
    "torch.manual_seed(0)\n",
    "\n",
    "SRC_VOCAB_SIZE = len(token_transform[SRC_LANGUAGE])\n",
    "TGT_VOCAB_SIZE = len(token_transform[TGT_LANGUAGE])\n",
    "EMB_SIZE = 512\n",
    "NHEAD = 8\n",
    "FFN_HID_DIM = 512\n",
    "BATCH_SIZE = 64\n",
    "NUM_ENCODER_LAYERS = 3\n",
    "NUM_DECODER_LAYERS = 3\n",
    "\n",
    "# train_dataloader = generate_dataloader(train['Obolo'], train['English'], BATCH_SIZE)\n",
    "# val_dataloader = generate_dataloader(val['Obolo'], val['English'], BATCH_SIZE)\n",
    "# test_dataloader = generate_dataloader(test['Obolo'], test['English'], BATCH_SIZE)\n",
    "train_dataloader = generate_dataloader(train['English'], train['Obolo'], BATCH_SIZE)\n",
    "val_dataloader = generate_dataloader(val['English'], val['Obolo'], BATCH_SIZE)\n",
    "test_dataloader = generate_dataloader(test['English'], test['Obolo'], BATCH_SIZE)\n",
    "\n",
    "transformer = Seq2SeqTransformer(NUM_ENCODER_LAYERS, NUM_DECODER_LAYERS, EMB_SIZE,\n",
    "                                 NHEAD, SRC_VOCAB_SIZE, TGT_VOCAB_SIZE, FFN_HID_DIM)\n",
    "\n",
    "for p in transformer.parameters():\n",
    "    if p.dim() > 1:\n",
    "        nn.init.xavier_uniform_(p)\n",
    "\n",
    "transformer = transformer.to(DEVICE)\n",
    "\n",
    "loss_fn = torch.nn.CrossEntropyLoss(ignore_index=PAD_IDX)\n",
    "\n",
    "optimizer = torch.optim.Adam(transformer.parameters(), lr=0.0001, betas=(0.9, 0.98), eps=1e-9)"
   ]
  },
  {
   "cell_type": "code",
   "execution_count": 4,
   "metadata": {},
   "outputs": [
    {
     "data": {
      "text/plain": [
       "Seq2SeqTransformer(\n",
       "  (transformer): Transformer(\n",
       "    (encoder): TransformerEncoder(\n",
       "      (layers): ModuleList(\n",
       "        (0-2): 3 x TransformerEncoderLayer(\n",
       "          (self_attn): MultiheadAttention(\n",
       "            (out_proj): NonDynamicallyQuantizableLinear(in_features=512, out_features=512, bias=True)\n",
       "          )\n",
       "          (linear1): Linear(in_features=512, out_features=512, bias=True)\n",
       "          (dropout): Dropout(p=0.1, inplace=False)\n",
       "          (linear2): Linear(in_features=512, out_features=512, bias=True)\n",
       "          (norm1): LayerNorm((512,), eps=1e-05, elementwise_affine=True)\n",
       "          (norm2): LayerNorm((512,), eps=1e-05, elementwise_affine=True)\n",
       "          (dropout1): Dropout(p=0.1, inplace=False)\n",
       "          (dropout2): Dropout(p=0.1, inplace=False)\n",
       "        )\n",
       "      )\n",
       "      (norm): LayerNorm((512,), eps=1e-05, elementwise_affine=True)\n",
       "    )\n",
       "    (decoder): TransformerDecoder(\n",
       "      (layers): ModuleList(\n",
       "        (0-2): 3 x TransformerDecoderLayer(\n",
       "          (self_attn): MultiheadAttention(\n",
       "            (out_proj): NonDynamicallyQuantizableLinear(in_features=512, out_features=512, bias=True)\n",
       "          )\n",
       "          (multihead_attn): MultiheadAttention(\n",
       "            (out_proj): NonDynamicallyQuantizableLinear(in_features=512, out_features=512, bias=True)\n",
       "          )\n",
       "          (linear1): Linear(in_features=512, out_features=512, bias=True)\n",
       "          (dropout): Dropout(p=0.1, inplace=False)\n",
       "          (linear2): Linear(in_features=512, out_features=512, bias=True)\n",
       "          (norm1): LayerNorm((512,), eps=1e-05, elementwise_affine=True)\n",
       "          (norm2): LayerNorm((512,), eps=1e-05, elementwise_affine=True)\n",
       "          (norm3): LayerNorm((512,), eps=1e-05, elementwise_affine=True)\n",
       "          (dropout1): Dropout(p=0.1, inplace=False)\n",
       "          (dropout2): Dropout(p=0.1, inplace=False)\n",
       "          (dropout3): Dropout(p=0.1, inplace=False)\n",
       "        )\n",
       "      )\n",
       "      (norm): LayerNorm((512,), eps=1e-05, elementwise_affine=True)\n",
       "    )\n",
       "  )\n",
       "  (generator): Linear(in_features=512, out_features=7150, bias=True)\n",
       "  (src_tok_emb): TokenEmbedding(\n",
       "    (embedding): Embedding(50257, 512)\n",
       "  )\n",
       "  (tgt_tok_emb): TokenEmbedding(\n",
       "    (embedding): Embedding(7150, 512)\n",
       "  )\n",
       "  (positional_encoding): PositionalEncoding(\n",
       "    (dropout): Dropout(p=0.1, inplace=False)\n",
       "  )\n",
       ")"
      ]
     },
     "metadata": {},
     "output_type": "display_data"
    },
    {
     "data": {
      "text/plain": [
       "Adam (\n",
       "Parameter Group 0\n",
       "    amsgrad: False\n",
       "    betas: (0.9, 0.98)\n",
       "    capturable: False\n",
       "    differentiable: False\n",
       "    eps: 1e-09\n",
       "    foreach: None\n",
       "    fused: None\n",
       "    lr: 0.0001\n",
       "    maximize: False\n",
       "    weight_decay: 0\n",
       ")"
      ]
     },
     "metadata": {},
     "output_type": "display_data"
    }
   ],
   "source": [
    "display(transformer)\n",
    "display(optimizer)"
   ]
  },
  {
   "cell_type": "code",
   "execution_count": 5,
   "metadata": {},
   "outputs": [],
   "source": [
    "def train_epoch(model, optimizer):\n",
    "    model.train()\n",
    "    losses = 0\n",
    "\n",
    "    for src, tgt in tqdm(train_dataloader):\n",
    "        src = src.to(DEVICE)\n",
    "        tgt = tgt.to(DEVICE)\n",
    "\n",
    "        tgt_input = tgt[:-1, :]\n",
    "\n",
    "        src_mask, tgt_mask, src_padding_mask, tgt_padding_mask = create_mask(src, tgt_input)\n",
    "\n",
    "        logits = model(src, tgt_input, src_mask, tgt_mask, src_padding_mask, tgt_padding_mask)\n",
    "\n",
    "        optimizer.zero_grad()\n",
    "\n",
    "        tgt_out = tgt[1:, :]\n",
    "        loss = loss_fn(logits.reshape(-1, logits.shape[-1]), tgt_out.reshape(-1))\n",
    "        loss.backward()\n",
    "\n",
    "        optimizer.step()\n",
    "        losses += loss.item()\n",
    "\n",
    "        # save vram \n",
    "        del src, tgt\n",
    "        torch.cuda.empty_cache()\n",
    "\n",
    "    return losses / len(list(train_dataloader))\n",
    "\n",
    "\n",
    "def evaluate(model):\n",
    "    model.eval()\n",
    "    losses = 0\n",
    "\n",
    "    for src, tgt in val_dataloader:\n",
    "        src = src.to(DEVICE)\n",
    "        tgt = tgt.to(DEVICE)\n",
    "\n",
    "        tgt_input = tgt[:-1, :]\n",
    "\n",
    "        src_mask, tgt_mask, src_padding_mask, tgt_padding_mask = create_mask(src, tgt_input)\n",
    "\n",
    "        logits = model(src, tgt_input, src_mask, tgt_mask, src_padding_mask, tgt_padding_mask)\n",
    "\n",
    "        tgt_out = tgt[1:, :]\n",
    "        loss = loss_fn(logits.reshape(-1, logits.shape[-1]), tgt_out.reshape(-1))\n",
    "        losses += loss.item()\n",
    "\n",
    "        # save vram \n",
    "        del src, tgt\n",
    "        torch.cuda.empty_cache()\n",
    "\n",
    "    return losses / len(list(val_dataloader))"
   ]
  },
  {
   "cell_type": "code",
   "execution_count": 6,
   "metadata": {},
   "outputs": [
    {
     "name": "stderr",
     "output_type": "stream",
     "text": [
      "  0%|          | 0/438 [00:00<?, ?it/s]c:\\Users\\abhiv\\miniconda3\\envs\\cs224n-gpu\\lib\\site-packages\\torch\\nn\\functional.py:5504: UserWarning: 1Torch was not compiled with flash attention. (Triggered internally at ..\\aten\\src\\ATen\\native\\transformers\\cuda\\sdp_utils.cpp:455.)\n",
      "  attn_output = scaled_dot_product_attention(q, k, v, attn_mask, dropout_p, is_causal)\n",
      "c:\\Users\\abhiv\\miniconda3\\envs\\cs224n-gpu\\lib\\site-packages\\torch\\nn\\functional.py:5137: UserWarning: Support for mismatched key_padding_mask and attn_mask is deprecated. Use same type for both instead.\n",
      "  warnings.warn(\n",
      "100%|██████████| 438/438 [01:28<00:00,  4.96it/s]\n"
     ]
    },
    {
     "name": "stdout",
     "output_type": "stream",
     "text": [
      "Epoch: 1, Train loss: 4.783, Val loss: 3.865, Epoch time = 97.225s\n"
     ]
    },
    {
     "name": "stderr",
     "output_type": "stream",
     "text": [
      "100%|██████████| 438/438 [01:26<00:00,  5.06it/s]\n"
     ]
    },
    {
     "name": "stdout",
     "output_type": "stream",
     "text": [
      "Epoch: 2, Train loss: 3.651, Val loss: 3.388, Epoch time = 95.152s\n"
     ]
    },
    {
     "name": "stderr",
     "output_type": "stream",
     "text": [
      "100%|██████████| 438/438 [01:26<00:00,  5.05it/s]\n"
     ]
    },
    {
     "name": "stdout",
     "output_type": "stream",
     "text": [
      "Epoch: 3, Train loss: 3.276, Val loss: 3.111, Epoch time = 95.390s\n"
     ]
    },
    {
     "name": "stderr",
     "output_type": "stream",
     "text": [
      "100%|██████████| 438/438 [01:27<00:00,  5.02it/s]\n"
     ]
    },
    {
     "name": "stdout",
     "output_type": "stream",
     "text": [
      "Epoch: 4, Train loss: 3.021, Val loss: 2.914, Epoch time = 97.120s\n"
     ]
    },
    {
     "name": "stderr",
     "output_type": "stream",
     "text": [
      "100%|██████████| 438/438 [01:27<00:00,  5.01it/s]\n"
     ]
    },
    {
     "name": "stdout",
     "output_type": "stream",
     "text": [
      "Epoch: 5, Train loss: 2.822, Val loss: 2.778, Epoch time = 96.121s\n"
     ]
    },
    {
     "name": "stderr",
     "output_type": "stream",
     "text": [
      "100%|██████████| 438/438 [01:26<00:00,  5.06it/s]\n"
     ]
    },
    {
     "name": "stdout",
     "output_type": "stream",
     "text": [
      "Epoch: 6, Train loss: 2.659, Val loss: 2.669, Epoch time = 95.430s\n"
     ]
    },
    {
     "name": "stderr",
     "output_type": "stream",
     "text": [
      "100%|██████████| 438/438 [01:28<00:00,  4.96it/s]\n"
     ]
    },
    {
     "name": "stdout",
     "output_type": "stream",
     "text": [
      "Epoch: 7, Train loss: 2.522, Val loss: 2.576, Epoch time = 97.233s\n"
     ]
    },
    {
     "name": "stderr",
     "output_type": "stream",
     "text": [
      "100%|██████████| 438/438 [01:26<00:00,  5.06it/s]\n"
     ]
    },
    {
     "name": "stdout",
     "output_type": "stream",
     "text": [
      "Epoch: 8, Train loss: 2.403, Val loss: 2.514, Epoch time = 95.285s\n"
     ]
    },
    {
     "name": "stderr",
     "output_type": "stream",
     "text": [
      "100%|██████████| 438/438 [01:27<00:00,  5.03it/s]\n"
     ]
    },
    {
     "name": "stdout",
     "output_type": "stream",
     "text": [
      "Epoch: 9, Train loss: 2.298, Val loss: 2.468, Epoch time = 95.975s\n"
     ]
    },
    {
     "name": "stderr",
     "output_type": "stream",
     "text": [
      "100%|██████████| 438/438 [01:28<00:00,  4.95it/s]\n"
     ]
    },
    {
     "name": "stdout",
     "output_type": "stream",
     "text": [
      "Epoch: 10, Train loss: 2.203, Val loss: 2.415, Epoch time = 98.047s\n"
     ]
    },
    {
     "name": "stderr",
     "output_type": "stream",
     "text": [
      "100%|██████████| 438/438 [01:27<00:00,  5.01it/s]\n"
     ]
    },
    {
     "name": "stdout",
     "output_type": "stream",
     "text": [
      "Epoch: 11, Train loss: 2.116, Val loss: 2.395, Epoch time = 96.367s\n"
     ]
    },
    {
     "name": "stderr",
     "output_type": "stream",
     "text": [
      "100%|██████████| 438/438 [01:28<00:00,  4.96it/s]\n"
     ]
    },
    {
     "name": "stdout",
     "output_type": "stream",
     "text": [
      "Epoch: 12, Train loss: 2.035, Val loss: 2.355, Epoch time = 97.248s\n"
     ]
    },
    {
     "name": "stderr",
     "output_type": "stream",
     "text": [
      "100%|██████████| 438/438 [01:27<00:00,  4.98it/s]\n"
     ]
    },
    {
     "name": "stdout",
     "output_type": "stream",
     "text": [
      "Epoch: 13, Train loss: 1.958, Val loss: 2.342, Epoch time = 97.195s\n"
     ]
    },
    {
     "name": "stderr",
     "output_type": "stream",
     "text": [
      "100%|██████████| 438/438 [01:28<00:00,  4.96it/s]\n"
     ]
    },
    {
     "name": "stdout",
     "output_type": "stream",
     "text": [
      "Epoch: 14, Train loss: 1.891, Val loss: 2.304, Epoch time = 97.514s\n"
     ]
    },
    {
     "name": "stderr",
     "output_type": "stream",
     "text": [
      "100%|██████████| 438/438 [01:28<00:00,  4.97it/s]\n"
     ]
    },
    {
     "name": "stdout",
     "output_type": "stream",
     "text": [
      "Epoch: 15, Train loss: 1.826, Val loss: 2.294, Epoch time = 97.311s\n"
     ]
    },
    {
     "name": "stderr",
     "output_type": "stream",
     "text": [
      "100%|██████████| 438/438 [01:27<00:00,  4.98it/s]\n"
     ]
    },
    {
     "name": "stdout",
     "output_type": "stream",
     "text": [
      "Epoch: 16, Train loss: 1.762, Val loss: 2.287, Epoch time = 96.595s\n"
     ]
    },
    {
     "name": "stderr",
     "output_type": "stream",
     "text": [
      "100%|██████████| 438/438 [01:26<00:00,  5.04it/s]\n"
     ]
    },
    {
     "name": "stdout",
     "output_type": "stream",
     "text": [
      "Epoch: 17, Train loss: 1.706, Val loss: 2.280, Epoch time = 95.481s\n"
     ]
    },
    {
     "name": "stderr",
     "output_type": "stream",
     "text": [
      "100%|██████████| 438/438 [01:26<00:00,  5.06it/s]\n"
     ]
    },
    {
     "name": "stdout",
     "output_type": "stream",
     "text": [
      "Epoch: 18, Train loss: 1.651, Val loss: 2.266, Epoch time = 95.282s\n"
     ]
    },
    {
     "name": "stderr",
     "output_type": "stream",
     "text": [
      "100%|██████████| 438/438 [01:28<00:00,  4.96it/s]\n"
     ]
    },
    {
     "name": "stdout",
     "output_type": "stream",
     "text": [
      "Epoch: 19, Train loss: 1.598, Val loss: 2.263, Epoch time = 97.553s\n"
     ]
    },
    {
     "name": "stderr",
     "output_type": "stream",
     "text": [
      "100%|██████████| 438/438 [01:26<00:00,  5.05it/s]\n"
     ]
    },
    {
     "name": "stdout",
     "output_type": "stream",
     "text": [
      "Epoch: 20, Train loss: 1.548, Val loss: 2.270, Epoch time = 95.397s\n"
     ]
    },
    {
     "name": "stderr",
     "output_type": "stream",
     "text": [
      "100%|██████████| 438/438 [01:26<00:00,  5.05it/s]\n"
     ]
    },
    {
     "name": "stdout",
     "output_type": "stream",
     "text": [
      "Epoch: 21, Train loss: 1.502, Val loss: 2.287, Epoch time = 95.431s\n"
     ]
    },
    {
     "name": "stderr",
     "output_type": "stream",
     "text": [
      "100%|██████████| 438/438 [01:26<00:00,  5.04it/s]\n"
     ]
    },
    {
     "name": "stdout",
     "output_type": "stream",
     "text": [
      "Epoch: 22, Train loss: 1.456, Val loss: 2.293, Epoch time = 95.565s\n"
     ]
    },
    {
     "name": "stderr",
     "output_type": "stream",
     "text": [
      "100%|██████████| 438/438 [01:26<00:00,  5.07it/s]\n"
     ]
    },
    {
     "name": "stdout",
     "output_type": "stream",
     "text": [
      "Epoch: 23, Train loss: 1.410, Val loss: 2.297, Epoch time = 95.274s\n"
     ]
    },
    {
     "name": "stderr",
     "output_type": "stream",
     "text": [
      "100%|██████████| 438/438 [01:26<00:00,  5.06it/s]\n"
     ]
    },
    {
     "name": "stdout",
     "output_type": "stream",
     "text": [
      "Epoch: 24, Train loss: 1.367, Val loss: 2.310, Epoch time = 95.193s\n"
     ]
    },
    {
     "name": "stderr",
     "output_type": "stream",
     "text": [
      "100%|██████████| 438/438 [01:26<00:00,  5.08it/s]\n"
     ]
    },
    {
     "name": "stdout",
     "output_type": "stream",
     "text": [
      "Epoch: 25, Train loss: 1.328, Val loss: 2.297, Epoch time = 94.998s\n"
     ]
    },
    {
     "name": "stderr",
     "output_type": "stream",
     "text": [
      "100%|██████████| 438/438 [01:26<00:00,  5.06it/s]\n"
     ]
    },
    {
     "name": "stdout",
     "output_type": "stream",
     "text": [
      "Epoch: 26, Train loss: 1.285, Val loss: 2.312, Epoch time = 95.343s\n"
     ]
    },
    {
     "name": "stderr",
     "output_type": "stream",
     "text": [
      "100%|██████████| 438/438 [01:26<00:00,  5.05it/s]\n"
     ]
    },
    {
     "name": "stdout",
     "output_type": "stream",
     "text": [
      "Epoch: 27, Train loss: 1.247, Val loss: 2.323, Epoch time = 95.472s\n"
     ]
    },
    {
     "name": "stderr",
     "output_type": "stream",
     "text": [
      "100%|██████████| 438/438 [01:26<00:00,  5.07it/s]\n"
     ]
    },
    {
     "name": "stdout",
     "output_type": "stream",
     "text": [
      "Epoch: 28, Train loss: 1.211, Val loss: 2.344, Epoch time = 95.284s\n"
     ]
    },
    {
     "name": "stderr",
     "output_type": "stream",
     "text": [
      "100%|██████████| 438/438 [01:26<00:00,  5.04it/s]\n"
     ]
    },
    {
     "name": "stdout",
     "output_type": "stream",
     "text": [
      "Epoch: 29, Train loss: 1.175, Val loss: 2.352, Epoch time = 95.608s\n"
     ]
    },
    {
     "name": "stderr",
     "output_type": "stream",
     "text": [
      "100%|██████████| 438/438 [01:26<00:00,  5.06it/s]\n"
     ]
    },
    {
     "name": "stdout",
     "output_type": "stream",
     "text": [
      "Epoch: 30, Train loss: 1.141, Val loss: 2.357, Epoch time = 95.249s\n"
     ]
    },
    {
     "name": "stderr",
     "output_type": "stream",
     "text": [
      "100%|██████████| 438/438 [01:26<00:00,  5.06it/s]\n"
     ]
    },
    {
     "name": "stdout",
     "output_type": "stream",
     "text": [
      "Epoch: 31, Train loss: 1.109, Val loss: 2.381, Epoch time = 95.147s\n"
     ]
    },
    {
     "name": "stderr",
     "output_type": "stream",
     "text": [
      "100%|██████████| 438/438 [01:26<00:00,  5.09it/s]\n"
     ]
    },
    {
     "name": "stdout",
     "output_type": "stream",
     "text": [
      "Epoch: 32, Train loss: 1.077, Val loss: 2.393, Epoch time = 94.778s\n"
     ]
    },
    {
     "name": "stderr",
     "output_type": "stream",
     "text": [
      "100%|██████████| 438/438 [01:26<00:00,  5.08it/s]\n"
     ]
    },
    {
     "name": "stdout",
     "output_type": "stream",
     "text": [
      "Epoch: 33, Train loss: 1.045, Val loss: 2.400, Epoch time = 94.925s\n"
     ]
    },
    {
     "name": "stderr",
     "output_type": "stream",
     "text": [
      "100%|██████████| 438/438 [01:26<00:00,  5.07it/s]\n"
     ]
    },
    {
     "name": "stdout",
     "output_type": "stream",
     "text": [
      "Epoch: 34, Train loss: 1.013, Val loss: 2.430, Epoch time = 95.158s\n"
     ]
    },
    {
     "name": "stderr",
     "output_type": "stream",
     "text": [
      "100%|██████████| 438/438 [01:26<00:00,  5.07it/s]\n"
     ]
    },
    {
     "name": "stdout",
     "output_type": "stream",
     "text": [
      "Epoch: 35, Train loss: 0.984, Val loss: 2.441, Epoch time = 95.094s\n"
     ]
    },
    {
     "name": "stderr",
     "output_type": "stream",
     "text": [
      "100%|██████████| 438/438 [01:26<00:00,  5.08it/s]\n"
     ]
    },
    {
     "name": "stdout",
     "output_type": "stream",
     "text": [
      "Epoch: 36, Train loss: 0.957, Val loss: 2.458, Epoch time = 94.944s\n"
     ]
    },
    {
     "name": "stderr",
     "output_type": "stream",
     "text": [
      "100%|██████████| 438/438 [01:27<00:00,  5.00it/s]\n"
     ]
    },
    {
     "name": "stdout",
     "output_type": "stream",
     "text": [
      "Epoch: 37, Train loss: 0.930, Val loss: 2.481, Epoch time = 97.127s\n"
     ]
    },
    {
     "name": "stderr",
     "output_type": "stream",
     "text": [
      "100%|██████████| 438/438 [01:27<00:00,  4.98it/s]\n"
     ]
    },
    {
     "name": "stdout",
     "output_type": "stream",
     "text": [
      "Epoch: 38, Train loss: 0.900, Val loss: 2.509, Epoch time = 96.888s\n"
     ]
    },
    {
     "name": "stderr",
     "output_type": "stream",
     "text": [
      "100%|██████████| 438/438 [01:27<00:00,  5.03it/s]\n"
     ]
    },
    {
     "name": "stdout",
     "output_type": "stream",
     "text": [
      "Epoch: 39, Train loss: 0.875, Val loss: 2.520, Epoch time = 96.005s\n"
     ]
    },
    {
     "name": "stderr",
     "output_type": "stream",
     "text": [
      "100%|██████████| 438/438 [01:27<00:00,  5.00it/s]\n"
     ]
    },
    {
     "name": "stdout",
     "output_type": "stream",
     "text": [
      "Epoch: 40, Train loss: 0.849, Val loss: 2.549, Epoch time = 96.287s\n"
     ]
    },
    {
     "name": "stderr",
     "output_type": "stream",
     "text": [
      "100%|██████████| 438/438 [01:26<00:00,  5.05it/s]\n"
     ]
    },
    {
     "name": "stdout",
     "output_type": "stream",
     "text": [
      "Epoch: 41, Train loss: 0.823, Val loss: 2.570, Epoch time = 95.383s\n"
     ]
    },
    {
     "name": "stderr",
     "output_type": "stream",
     "text": [
      "100%|██████████| 438/438 [01:28<00:00,  4.96it/s]\n"
     ]
    },
    {
     "name": "stdout",
     "output_type": "stream",
     "text": [
      "Epoch: 42, Train loss: 0.800, Val loss: 2.587, Epoch time = 97.360s\n"
     ]
    },
    {
     "name": "stderr",
     "output_type": "stream",
     "text": [
      "100%|██████████| 438/438 [01:28<00:00,  4.94it/s]\n"
     ]
    },
    {
     "name": "stdout",
     "output_type": "stream",
     "text": [
      "Epoch: 43, Train loss: 0.777, Val loss: 2.608, Epoch time = 97.962s\n"
     ]
    },
    {
     "name": "stderr",
     "output_type": "stream",
     "text": [
      "100%|██████████| 438/438 [01:28<00:00,  4.97it/s]\n"
     ]
    },
    {
     "name": "stdout",
     "output_type": "stream",
     "text": [
      "Epoch: 44, Train loss: 0.754, Val loss: 2.618, Epoch time = 97.172s\n"
     ]
    },
    {
     "name": "stderr",
     "output_type": "stream",
     "text": [
      "100%|██████████| 438/438 [01:27<00:00,  5.03it/s]\n"
     ]
    },
    {
     "name": "stdout",
     "output_type": "stream",
     "text": [
      "Epoch: 45, Train loss: 0.732, Val loss: 2.644, Epoch time = 95.936s\n"
     ]
    },
    {
     "name": "stderr",
     "output_type": "stream",
     "text": [
      "100%|██████████| 438/438 [01:27<00:00,  5.01it/s]\n"
     ]
    },
    {
     "name": "stdout",
     "output_type": "stream",
     "text": [
      "Epoch: 46, Train loss: 0.708, Val loss: 2.658, Epoch time = 96.518s\n"
     ]
    },
    {
     "name": "stderr",
     "output_type": "stream",
     "text": [
      "100%|██████████| 438/438 [01:26<00:00,  5.05it/s]\n"
     ]
    },
    {
     "name": "stdout",
     "output_type": "stream",
     "text": [
      "Epoch: 47, Train loss: 0.690, Val loss: 2.682, Epoch time = 95.571s\n"
     ]
    },
    {
     "name": "stderr",
     "output_type": "stream",
     "text": [
      "100%|██████████| 438/438 [01:26<00:00,  5.04it/s]\n"
     ]
    },
    {
     "name": "stdout",
     "output_type": "stream",
     "text": [
      "Epoch: 48, Train loss: 0.672, Val loss: 2.694, Epoch time = 95.476s\n"
     ]
    },
    {
     "name": "stderr",
     "output_type": "stream",
     "text": [
      "100%|██████████| 438/438 [01:26<00:00,  5.06it/s]\n"
     ]
    },
    {
     "name": "stdout",
     "output_type": "stream",
     "text": [
      "Epoch: 49, Train loss: 0.652, Val loss: 2.716, Epoch time = 95.358s\n"
     ]
    },
    {
     "name": "stderr",
     "output_type": "stream",
     "text": [
      "100%|██████████| 438/438 [01:27<00:00,  5.00it/s]\n"
     ]
    },
    {
     "name": "stdout",
     "output_type": "stream",
     "text": [
      "Epoch: 50, Train loss: 0.636, Val loss: 2.733, Epoch time = 96.494s\n"
     ]
    }
   ],
   "source": [
    "from timeit import default_timer as timer\n",
    "\n",
    "# NUM_EPOCHS = 10\n",
    "NUM_EPOCHS = 50 \n",
    "\n",
    "train_losses = []\n",
    "val_losses = []\n",
    "for epoch in range(1, NUM_EPOCHS+1):\n",
    "    start_time = timer()\n",
    "    train_loss = train_epoch(transformer, optimizer)\n",
    "    end_time = timer()\n",
    "    val_loss = evaluate(transformer)\n",
    "    train_losses.append(train_loss)\n",
    "    val_losses.append(val_loss)\n",
    "    print((f\"Epoch: {epoch}, Train loss: {train_loss:.3f}, Val loss: {val_loss:.3f}, \"f\"Epoch time = {(end_time - start_time):.3f}s\"))\n",
    "    if epoch % 5 == 0:\n",
    "        # torch.save(transformer, f'checkpoints/transformer_obolo_to_english_bpe_{epoch}_epochs.pt')\n",
    "        torch.save(transformer, f'checkpoints/transformer_english_to_obolo_bpe_small_{epoch}_epochs.pt')"
   ]
  },
  {
   "cell_type": "code",
   "execution_count": 7,
   "metadata": {},
   "outputs": [
    {
     "data": {
      "image/png": "[encoded data removed]",
      "text/plain": [
       "<Figure size 640x480 with 1 Axes>"
      ]
     },
     "metadata": {},
     "output_type": "display_data"
    }
   ],
   "source": [
    "import matplotlib.pyplot as plt \n",
    "import numpy as np\n",
    "\n",
    "plt.plot(train_losses, label='train')\n",
    "plt.plot(val_losses, label='val')\n",
    "plt.legend()\n",
    "plt.title('Training and Validation Losses')\n",
    "plt.xlabel('Epochs')\n",
    "plt.show()"
   ]
  },
  {
   "cell_type": "code",
   "execution_count": 9,
   "metadata": {},
   "outputs": [],
   "source": [
    "torch.save(transformer.state_dict(), 'transformer_obolo_to_english_bpe_dict.pt')"
   ]
  },
  {
   "cell_type": "code",
   "execution_count": 10,
   "metadata": {},
   "outputs": [],
   "source": [
    "torch.save(transformer, 'transformer_obolo_to_english_bpe.pt')"
   ]
  },
  {
   "cell_type": "code",
   "execution_count": 48,
   "metadata": {},
   "outputs": [
    {
     "data": {
      "text/plain": [
       "Seq2SeqTransformer(\n",
       "  (transformer): Transformer(\n",
       "    (encoder): TransformerEncoder(\n",
       "      (layers): ModuleList(\n",
       "        (0-2): 3 x TransformerEncoderLayer(\n",
       "          (self_attn): MultiheadAttention(\n",
       "            (out_proj): NonDynamicallyQuantizableLinear(in_features=512, out_features=512, bias=True)\n",
       "          )\n",
       "          (linear1): Linear(in_features=512, out_features=512, bias=True)\n",
       "          (dropout): Dropout(p=0.1, inplace=False)\n",
       "          (linear2): Linear(in_features=512, out_features=512, bias=True)\n",
       "          (norm1): LayerNorm((512,), eps=1e-05, elementwise_affine=True)\n",
       "          (norm2): LayerNorm((512,), eps=1e-05, elementwise_affine=True)\n",
       "          (dropout1): Dropout(p=0.1, inplace=False)\n",
       "          (dropout2): Dropout(p=0.1, inplace=False)\n",
       "        )\n",
       "      )\n",
       "      (norm): LayerNorm((512,), eps=1e-05, elementwise_affine=True)\n",
       "    )\n",
       "    (decoder): TransformerDecoder(\n",
       "      (layers): ModuleList(\n",
       "        (0-2): 3 x TransformerDecoderLayer(\n",
       "          (self_attn): MultiheadAttention(\n",
       "            (out_proj): NonDynamicallyQuantizableLinear(in_features=512, out_features=512, bias=True)\n",
       "          )\n",
       "          (multihead_attn): MultiheadAttention(\n",
       "            (out_proj): NonDynamicallyQuantizableLinear(in_features=512, out_features=512, bias=True)\n",
       "          )\n",
       "          (linear1): Linear(in_features=512, out_features=512, bias=True)\n",
       "          (dropout): Dropout(p=0.1, inplace=False)\n",
       "          (linear2): Linear(in_features=512, out_features=512, bias=True)\n",
       "          (norm1): LayerNorm((512,), eps=1e-05, elementwise_affine=True)\n",
       "          (norm2): LayerNorm((512,), eps=1e-05, elementwise_affine=True)\n",
       "          (norm3): LayerNorm((512,), eps=1e-05, elementwise_affine=True)\n",
       "          (dropout1): Dropout(p=0.1, inplace=False)\n",
       "          (dropout2): Dropout(p=0.1, inplace=False)\n",
       "          (dropout3): Dropout(p=0.1, inplace=False)\n",
       "        )\n",
       "      )\n",
       "      (norm): LayerNorm((512,), eps=1e-05, elementwise_affine=True)\n",
       "    )\n",
       "  )\n",
       "  (generator): Linear(in_features=512, out_features=50257, bias=True)\n",
       "  (src_tok_emb): TokenEmbedding(\n",
       "    (embedding): Embedding(15866, 512)\n",
       "  )\n",
       "  (tgt_tok_emb): TokenEmbedding(\n",
       "    (embedding): Embedding(50257, 512)\n",
       "  )\n",
       "  (positional_encoding): PositionalEncoding(\n",
       "    (dropout): Dropout(p=0.1, inplace=False)\n",
       "  )\n",
       ")"
      ]
     },
     "execution_count": 48,
     "metadata": {},
     "output_type": "execute_result"
    }
   ],
   "source": [
    "m=torch.load('transformer_obolo_to_english_bpe.pt')\n",
    "m"
   ]
  },
  {
   "cell_type": "code",
   "execution_count": 16,
   "metadata": {},
   "outputs": [],
   "source": [
    "# function to generate output sequence using greedy algorithm\n",
    "def greedy_decode(model, src, src_mask, max_len, start_symbol):\n",
    "    src = src.to(DEVICE)\n",
    "    src_mask = src_mask.to(DEVICE)\n",
    "\n",
    "    memory = model.encode(src, src_mask)\n",
    "    ys = torch.ones(1, 1).fill_(start_symbol).type(torch.long).to(DEVICE)\n",
    "    for i in range(max_len-1):\n",
    "        memory = memory.to(DEVICE)\n",
    "        tgt_mask = (generate_square_subsequent_mask(ys.size(0))\n",
    "                    .type(torch.bool)).to(DEVICE)\n",
    "        out = model.decode(ys, memory, tgt_mask)\n",
    "        # print(out)\n",
    "        # print(english_tokenizer.decode(out))\n",
    "        out = out.transpose(0, 1)\n",
    "        prob = model.generator(out[:, -1])\n",
    "        _, next_word = torch.max(prob, dim=1)\n",
    "        next_word = next_word.item()\n",
    "        # print(next_word)\n",
    "        ys = torch.cat([ys,\n",
    "                        torch.ones(1, 1).type_as(src.data).fill_(next_word)], dim=0)\n",
    "        # save vram\n",
    "        del tgt_mask \n",
    "        torch.cuda.empty_cache()\n",
    "        if next_word == EOS_IDX:\n",
    "            break\n",
    "    return ys\n",
    "\n",
    "\n",
    "# actual function to translate input sentence into target language\n",
    "def translate(model: torch.nn.Module, src_sentence: str):\n",
    "    model.eval()\n",
    "    src = text_transform[SRC_LANGUAGE](src_sentence).view(-1, 1)\n",
    "    num_tokens = src.shape[0]\n",
    "    src_mask = (torch.zeros(num_tokens, num_tokens)).type(torch.bool)\n",
    "    tgt_tokens = greedy_decode(\n",
    "        model,  src, src_mask, max_len=num_tokens + 5, start_symbol=BOS_IDX).flatten()\n",
    "    \n",
    "    return token_transform[TGT_LANGUAGE].decode(tgt_tokens[1:-1])\n",
    "    return \" \".join(vocab_transform[TGT_LANGUAGE].lookup_tokens(list(tgt_tokens.cpu().numpy()))).replace(\"[CLS]\", \"\").replace(\"[SEP]\", \"\")\n"
   ]
  },
  {
   "cell_type": "code",
   "execution_count": 9,
   "metadata": {},
   "outputs": [
    {
     "name": "stdout",
     "output_type": "stream",
     "text": [
      "[1, 24, 73, 8, 42, 108, 24, 42, 660, 1518, 124, 42, 163, 42, 85, 319, 42, 660, 20, 42, 405, 42, 694, 694, 20, 42, 168, 28, 42, 20, 69, 42, 24, 89, 239, 42, 405, 42, 58, 42, 20, 110, 42, 20, 69, 42, 24, 8207, 5228, 24, 10, 42, 168, 28, 42, 88, 5997, 42, 405, 42, 694, 694, 20, 42, 20, 110, 42, 20, 69, 42, 24, 89, 239, 42, 24, 42, 58, 415, 214, 2] torch.Size([80, 1])\n",
      "[CLS]ire, emi okumugwem ma ̂tap oke me etete anam ebi ijeren me ̀ echi ebi ijipiti. anam geege me etete echi ebi ijeren i ̀kpokwu[SEP]\n"
     ]
    }
   ],
   "source": [
    "src_sentence = \"ire, emi okumugwem mâtap oke me etete anam ebi ijeren mè echi ebi ijipiti. anam geege me etete echi ebi ijeren ìkpokwu\"\n",
    "src = text_transform[SRC_LANGUAGE](src_sentence).view(-1, 1)\n",
    "print(list(src.numpy().flatten()), src.shape)\n",
    "print(token_transform[SRC_LANGUAGE].decode(src.numpy().flatten()))"
   ]
  },
  {
   "cell_type": "markdown",
   "metadata": {},
   "source": [
    "MAKE TRANSLATE ACTUALLY WORK !!!"
   ]
  },
  {
   "cell_type": "code",
   "execution_count": null,
   "metadata": {},
   "outputs": [],
   "source": [
    "test = load_dataset('csv', data_files='../data/test.csv')['train']\n",
    "print(len(test))"
   ]
  },
  {
   "cell_type": "code",
   "execution_count": 17,
   "metadata": {},
   "outputs": [
    {
     "name": "stderr",
     "output_type": "stream",
     "text": [
      "[nltk_data] Downloading package wordnet to\n",
      "[nltk_data]     C:\\Users\\abhiv\\AppData\\Roaming\\nltk_data...\n",
      "[nltk_data]   Package wordnet is already up-to-date!\n",
      "[nltk_data] Downloading package punkt to\n",
      "[nltk_data]     C:\\Users\\abhiv\\AppData\\Roaming\\nltk_data...\n",
      "[nltk_data]   Package punkt is already up-to-date!\n",
      "[nltk_data] Downloading package omw-1.4 to\n",
      "[nltk_data]     C:\\Users\\abhiv\\AppData\\Roaming\\nltk_data...\n",
      "[nltk_data]   Package omw-1.4 is already up-to-date!\n"
     ]
    }
   ],
   "source": [
    "chrf = load('chrf')\n",
    "gleu = load('google_bleu')\n",
    "rouge = load('rouge') \n",
    "bleu = load('bleu')\n",
    "meteor = load('meteor')\n",
    "metrics = combine([chrf, bleu, rouge, meteor, gleu])\n",
    "\n",
    "def test_model(m):\n",
    "    preds = []\n",
    "    refs = []\n",
    "    for idx in tqdm(range(len(test['Obolo']))):\n",
    "        ob, en = test['Obolo'][idx], test['English'][idx]\n",
    "        refs.append(en)\n",
    "        pred = translate(m, ob)\n",
    "        preds.append(pred)\n",
    "    print(len(preds), len(refs))\n",
    "    chrf_plusplus = chrf.compute(predictions=preds, references=refs, word_order=2)\n",
    "    other_metrics = metrics.compute(predictions=preds, references=refs)\n",
    "    return (chrf_plusplus, other_metrics)\n",
    "# def test_model(m):\n",
    "#     preds = []\n",
    "#     refs = []\n",
    "#     for idx in tqdm(range(len(test['Obolo']))):\n",
    "#         ob, en = test['Obolo'][idx], test['English'][idx]\n",
    "#         refs.append(ob)\n",
    "#         pred = translate(m, en)\n",
    "#         preds.append(pred)\n",
    "#     print(len(preds), len(refs))\n",
    "#     chrf_plusplus = chrf.compute(predictions=preds, references=refs, word_order=2)\n",
    "#     other_metrics = metrics.compute(predictions=preds, references=refs)\n",
    "#     return (chrf_plusplus, other_metrics)"
   ]
  },
  {
   "cell_type": "code",
   "execution_count": 18,
   "metadata": {},
   "outputs": [
    {
     "data": {
      "text/plain": [
       "Seq2SeqTransformer(\n",
       "  (transformer): Transformer(\n",
       "    (encoder): TransformerEncoder(\n",
       "      (layers): ModuleList(\n",
       "        (0-2): 3 x TransformerEncoderLayer(\n",
       "          (self_attn): MultiheadAttention(\n",
       "            (out_proj): NonDynamicallyQuantizableLinear(in_features=512, out_features=512, bias=True)\n",
       "          )\n",
       "          (linear1): Linear(in_features=512, out_features=512, bias=True)\n",
       "          (dropout): Dropout(p=0.1, inplace=False)\n",
       "          (linear2): Linear(in_features=512, out_features=512, bias=True)\n",
       "          (norm1): LayerNorm((512,), eps=1e-05, elementwise_affine=True)\n",
       "          (norm2): LayerNorm((512,), eps=1e-05, elementwise_affine=True)\n",
       "          (dropout1): Dropout(p=0.1, inplace=False)\n",
       "          (dropout2): Dropout(p=0.1, inplace=False)\n",
       "        )\n",
       "      )\n",
       "      (norm): LayerNorm((512,), eps=1e-05, elementwise_affine=True)\n",
       "    )\n",
       "    (decoder): TransformerDecoder(\n",
       "      (layers): ModuleList(\n",
       "        (0-2): 3 x TransformerDecoderLayer(\n",
       "          (self_attn): MultiheadAttention(\n",
       "            (out_proj): NonDynamicallyQuantizableLinear(in_features=512, out_features=512, bias=True)\n",
       "          )\n",
       "          (multihead_attn): MultiheadAttention(\n",
       "            (out_proj): NonDynamicallyQuantizableLinear(in_features=512, out_features=512, bias=True)\n",
       "          )\n",
       "          (linear1): Linear(in_features=512, out_features=512, bias=True)\n",
       "          (dropout): Dropout(p=0.1, inplace=False)\n",
       "          (linear2): Linear(in_features=512, out_features=512, bias=True)\n",
       "          (norm1): LayerNorm((512,), eps=1e-05, elementwise_affine=True)\n",
       "          (norm2): LayerNorm((512,), eps=1e-05, elementwise_affine=True)\n",
       "          (norm3): LayerNorm((512,), eps=1e-05, elementwise_affine=True)\n",
       "          (dropout1): Dropout(p=0.1, inplace=False)\n",
       "          (dropout2): Dropout(p=0.1, inplace=False)\n",
       "          (dropout3): Dropout(p=0.1, inplace=False)\n",
       "        )\n",
       "      )\n",
       "      (norm): LayerNorm((512,), eps=1e-05, elementwise_affine=True)\n",
       "    )\n",
       "  )\n",
       "  (generator): Linear(in_features=512, out_features=7150, bias=True)\n",
       "  (src_tok_emb): TokenEmbedding(\n",
       "    (embedding): Embedding(50257, 512)\n",
       "  )\n",
       "  (tgt_tok_emb): TokenEmbedding(\n",
       "    (embedding): Embedding(7150, 512)\n",
       "  )\n",
       "  (positional_encoding): PositionalEncoding(\n",
       "    (dropout): Dropout(p=0.1, inplace=False)\n",
       "  )\n",
       ")"
      ]
     },
     "metadata": {},
     "output_type": "display_data"
    },
    {
     "name": "stderr",
     "output_type": "stream",
     "text": [
      "100%|██████████| 2610/2610 [08:29<00:00,  5.12it/s] \n"
     ]
    },
    {
     "name": "stdout",
     "output_type": "stream",
     "text": [
      "2610 2610\n"
     ]
    },
    {
     "data": {
      "text/plain": [
       "({'score': 31.4594364184561, 'char_order': 6, 'word_order': 2, 'beta': 2},\n",
       " {'score': 33.1183382693422,\n",
       "  'char_order': 6,\n",
       "  'word_order': 0,\n",
       "  'beta': 2,\n",
       "  'bleu': 0.0965839369096732,\n",
       "  'precisions': [0.4439593452564786,\n",
       "   0.17493879692235953,\n",
       "   0.07409034447238465,\n",
       "   0.03506087943978298],\n",
       "  'brevity_penalty': 0.8104037923231848,\n",
       "  'length_ratio': 0.8262942384205826,\n",
       "  'translation_length': 71234,\n",
       "  'reference_length': 86209,\n",
       "  'rouge1': 0.40209917560946296,\n",
       "  'rouge2': 0.1688320075056018,\n",
       "  'rougeL': 0.330439312992152,\n",
       "  'rougeLsum': 0.3302889543180393,\n",
       "  'meteor': 0.27499811487427545,\n",
       "  'google_bleu': 0.14902439883938115})"
      ]
     },
     "metadata": {},
     "output_type": "display_data"
    },
    {
     "name": "stderr",
     "output_type": "stream",
     "text": [
      "100%|██████████| 2610/2610 [08:12<00:00,  5.29it/s]\n"
     ]
    },
    {
     "name": "stdout",
     "output_type": "stream",
     "text": [
      "2610 2610\n"
     ]
    },
    {
     "data": {
      "text/plain": [
       "({'score': 34.60890032170223, 'char_order': 6, 'word_order': 2, 'beta': 2},\n",
       " {'score': 36.45257913325245,\n",
       "  'char_order': 6,\n",
       "  'word_order': 0,\n",
       "  'beta': 2,\n",
       "  'bleu': 0.12375037959937117,\n",
       "  'precisions': [0.46202111368595083,\n",
       "   0.19926665823745102,\n",
       "   0.09609018389698269,\n",
       "   0.05197010354603478],\n",
       "  'brevity_penalty': 0.8451120090240163,\n",
       "  'length_ratio': 0.8559547147049612,\n",
       "  'translation_length': 73791,\n",
       "  'reference_length': 86209,\n",
       "  'rouge1': 0.42594365363152303,\n",
       "  'rouge2': 0.19672495711620275,\n",
       "  'rougeL': 0.35142566208222015,\n",
       "  'rougeLsum': 0.3515269770697331,\n",
       "  'meteor': 0.2990011024367041,\n",
       "  'google_bleu': 0.16980087851142414})"
      ]
     },
     "metadata": {},
     "output_type": "display_data"
    },
    {
     "name": "stderr",
     "output_type": "stream",
     "text": [
      "100%|██████████| 2610/2610 [08:15<00:00,  5.27it/s]\n"
     ]
    },
    {
     "name": "stdout",
     "output_type": "stream",
     "text": [
      "2610 2610\n"
     ]
    },
    {
     "data": {
      "text/plain": [
       "({'score': 35.8645034031162, 'char_order': 6, 'word_order': 2, 'beta': 2},\n",
       " {'score': 37.871225550705056,\n",
       "  'char_order': 6,\n",
       "  'word_order': 0,\n",
       "  'beta': 2,\n",
       "  'bleu': 0.1314852977175387,\n",
       "  'precisions': [0.46451269069349144,\n",
       "   0.2040996618124094,\n",
       "   0.10156798167108183,\n",
       "   0.05624395686128672],\n",
       "  'brevity_penalty': 0.8619043144601847,\n",
       "  'length_ratio': 0.8706167569511304,\n",
       "  'translation_length': 75055,\n",
       "  'reference_length': 86209,\n",
       "  'rouge1': 0.43278884146234514,\n",
       "  'rouge2': 0.20327690740077292,\n",
       "  'rougeL': 0.35567630273607376,\n",
       "  'rougeLsum': 0.35554910123929573,\n",
       "  'meteor': 0.3055120263009529,\n",
       "  'google_bleu': 0.17569874243778957})"
      ]
     },
     "metadata": {},
     "output_type": "display_data"
    },
    {
     "name": "stderr",
     "output_type": "stream",
     "text": [
      "100%|██████████| 2610/2610 [08:08<00:00,  5.34it/s]\n"
     ]
    },
    {
     "name": "stdout",
     "output_type": "stream",
     "text": [
      "2610 2610\n"
     ]
    },
    {
     "data": {
      "text/plain": [
       "({'score': 36.190355946973, 'char_order': 6, 'word_order': 2, 'beta': 2},\n",
       " {'score': 38.37663027147303,\n",
       "  'char_order': 6,\n",
       "  'word_order': 0,\n",
       "  'beta': 2,\n",
       "  'bleu': 0.12951030123890808,\n",
       "  'precisions': [0.47209337124046086,\n",
       "   0.20605616123436243,\n",
       "   0.10222131111534125,\n",
       "   0.05645210401315389],\n",
       "  'brevity_penalty': 0.8413865042709813,\n",
       "  'length_ratio': 0.8527299933881614,\n",
       "  'translation_length': 73513,\n",
       "  'reference_length': 86209,\n",
       "  'rouge1': 0.43998740386245805,\n",
       "  'rouge2': 0.2079964625119528,\n",
       "  'rougeL': 0.3639936206259728,\n",
       "  'rougeLsum': 0.36428226798504276,\n",
       "  'meteor': 0.3073477292188966,\n",
       "  'google_bleu': 0.17534979953009386})"
      ]
     },
     "metadata": {},
     "output_type": "display_data"
    },
    {
     "name": "stderr",
     "output_type": "stream",
     "text": [
      "100%|██████████| 2610/2610 [08:14<00:00,  5.27it/s]\n"
     ]
    },
    {
     "name": "stdout",
     "output_type": "stream",
     "text": [
      "2610 2610\n"
     ]
    },
    {
     "data": {
      "text/plain": [
       "({'score': 35.64635608493907, 'char_order': 6, 'word_order': 2, 'beta': 2},\n",
       " {'score': 37.75723550215659,\n",
       "  'char_order': 6,\n",
       "  'word_order': 0,\n",
       "  'beta': 2,\n",
       "  'bleu': 0.12596321547781203,\n",
       "  'precisions': [0.4652110195356091,\n",
       "   0.19899117979015424,\n",
       "   0.09670749164943535,\n",
       "   0.05313537800351631],\n",
       "  'brevity_penalty': 0.8529268967889252,\n",
       "  'length_ratio': 0.8627521488475681,\n",
       "  'translation_length': 74377,\n",
       "  'reference_length': 86209,\n",
       "  'rouge1': 0.43130980811161257,\n",
       "  'rouge2': 0.20000287266562097,\n",
       "  'rougeL': 0.3543503409004035,\n",
       "  'rougeLsum': 0.3545369197114089,\n",
       "  'meteor': 0.3012917120566398,\n",
       "  'google_bleu': 0.17186173367915422})"
      ]
     },
     "metadata": {},
     "output_type": "display_data"
    }
   ],
   "source": [
    "models = []\n",
    "for epoch in [10,20,30,40,50]:\n",
    "    model = torch.load(f'checkpoints/transformer_english_to_obolo_bpe_small_{epoch}_epochs.pt').to(DEVICE)\n",
    "    models.append(model)\n",
    "display(models[0])\n",
    "scores = []\n",
    "for mod in models:\n",
    "    score = test_model(mod)\n",
    "    display(score)\n",
    "    scores.append(score) "
   ]
  },
  {
   "cell_type": "code",
   "execution_count": 19,
   "metadata": {},
   "outputs": [
    {
     "data": {
      "text/plain": [
       "[({'score': 31.4594364184561, 'char_order': 6, 'word_order': 2, 'beta': 2},\n",
       "  {'score': 33.1183382693422,\n",
       "   'char_order': 6,\n",
       "   'word_order': 0,\n",
       "   'beta': 2,\n",
       "   'bleu': 0.0965839369096732,\n",
       "   'precisions': [0.4439593452564786,\n",
       "    0.17493879692235953,\n",
       "    0.07409034447238465,\n",
       "    0.03506087943978298],\n",
       "   'brevity_penalty': 0.8104037923231848,\n",
       "   'length_ratio': 0.8262942384205826,\n",
       "   'translation_length': 71234,\n",
       "   'reference_length': 86209,\n",
       "   'rouge1': 0.40209917560946296,\n",
       "   'rouge2': 0.1688320075056018,\n",
       "   'rougeL': 0.330439312992152,\n",
       "   'rougeLsum': 0.3302889543180393,\n",
       "   'meteor': 0.27499811487427545,\n",
       "   'google_bleu': 0.14902439883938115}),\n",
       " ({'score': 34.60890032170223, 'char_order': 6, 'word_order': 2, 'beta': 2},\n",
       "  {'score': 36.45257913325245,\n",
       "   'char_order': 6,\n",
       "   'word_order': 0,\n",
       "   'beta': 2,\n",
       "   'bleu': 0.12375037959937117,\n",
       "   'precisions': [0.46202111368595083,\n",
       "    0.19926665823745102,\n",
       "    0.09609018389698269,\n",
       "    0.05197010354603478],\n",
       "   'brevity_penalty': 0.8451120090240163,\n",
       "   'length_ratio': 0.8559547147049612,\n",
       "   'translation_length': 73791,\n",
       "   'reference_length': 86209,\n",
       "   'rouge1': 0.42594365363152303,\n",
       "   'rouge2': 0.19672495711620275,\n",
       "   'rougeL': 0.35142566208222015,\n",
       "   'rougeLsum': 0.3515269770697331,\n",
       "   'meteor': 0.2990011024367041,\n",
       "   'google_bleu': 0.16980087851142414}),\n",
       " ({'score': 35.8645034031162, 'char_order': 6, 'word_order': 2, 'beta': 2},\n",
       "  {'score': 37.871225550705056,\n",
       "   'char_order': 6,\n",
       "   'word_order': 0,\n",
       "   'beta': 2,\n",
       "   'bleu': 0.1314852977175387,\n",
       "   'precisions': [0.46451269069349144,\n",
       "    0.2040996618124094,\n",
       "    0.10156798167108183,\n",
       "    0.05624395686128672],\n",
       "   'brevity_penalty': 0.8619043144601847,\n",
       "   'length_ratio': 0.8706167569511304,\n",
       "   'translation_length': 75055,\n",
       "   'reference_length': 86209,\n",
       "   'rouge1': 0.43278884146234514,\n",
       "   'rouge2': 0.20327690740077292,\n",
       "   'rougeL': 0.35567630273607376,\n",
       "   'rougeLsum': 0.35554910123929573,\n",
       "   'meteor': 0.3055120263009529,\n",
       "   'google_bleu': 0.17569874243778957}),\n",
       " ({'score': 36.190355946973, 'char_order': 6, 'word_order': 2, 'beta': 2},\n",
       "  {'score': 38.37663027147303,\n",
       "   'char_order': 6,\n",
       "   'word_order': 0,\n",
       "   'beta': 2,\n",
       "   'bleu': 0.12951030123890808,\n",
       "   'precisions': [0.47209337124046086,\n",
       "    0.20605616123436243,\n",
       "    0.10222131111534125,\n",
       "    0.05645210401315389],\n",
       "   'brevity_penalty': 0.8413865042709813,\n",
       "   'length_ratio': 0.8527299933881614,\n",
       "   'translation_length': 73513,\n",
       "   'reference_length': 86209,\n",
       "   'rouge1': 0.43998740386245805,\n",
       "   'rouge2': 0.2079964625119528,\n",
       "   'rougeL': 0.3639936206259728,\n",
       "   'rougeLsum': 0.36428226798504276,\n",
       "   'meteor': 0.3073477292188966,\n",
       "   'google_bleu': 0.17534979953009386}),\n",
       " ({'score': 35.64635608493907, 'char_order': 6, 'word_order': 2, 'beta': 2},\n",
       "  {'score': 37.75723550215659,\n",
       "   'char_order': 6,\n",
       "   'word_order': 0,\n",
       "   'beta': 2,\n",
       "   'bleu': 0.12596321547781203,\n",
       "   'precisions': [0.4652110195356091,\n",
       "    0.19899117979015424,\n",
       "    0.09670749164943535,\n",
       "    0.05313537800351631],\n",
       "   'brevity_penalty': 0.8529268967889252,\n",
       "   'length_ratio': 0.8627521488475681,\n",
       "   'translation_length': 74377,\n",
       "   'reference_length': 86209,\n",
       "   'rouge1': 0.43130980811161257,\n",
       "   'rouge2': 0.20000287266562097,\n",
       "   'rougeL': 0.3543503409004035,\n",
       "   'rougeLsum': 0.3545369197114089,\n",
       "   'meteor': 0.3012917120566398,\n",
       "   'google_bleu': 0.17186173367915422})]"
      ]
     },
     "execution_count": 19,
     "metadata": {},
     "output_type": "execute_result"
    }
   ],
   "source": [
    "scores"
   ]
  },
  {
   "cell_type": "code",
   "execution_count": null,
   "metadata": {},
   "outputs": [
    {
     "name": "stderr",
     "output_type": "stream",
     "text": [
      "100%|██████████| 2610/2610 [08:42<00:00,  4.99it/s]\n"
     ]
    },
    {
     "name": "stdout",
     "output_type": "stream",
     "text": [
      "2610 2610\n"
     ]
    },
    {
     "name": "stderr",
     "output_type": "stream",
     "text": [
      "[nltk_data] Downloading package wordnet to\n",
      "[nltk_data]     C:\\Users\\abhiv\\AppData\\Roaming\\nltk_data...\n",
      "[nltk_data]   Package wordnet is already up-to-date!\n",
      "[nltk_data] Downloading package punkt to\n",
      "[nltk_data]     C:\\Users\\abhiv\\AppData\\Roaming\\nltk_data...\n",
      "[nltk_data]   Package punkt is already up-to-date!\n",
      "[nltk_data] Downloading package omw-1.4 to\n",
      "[nltk_data]     C:\\Users\\abhiv\\AppData\\Roaming\\nltk_data...\n",
      "[nltk_data]   Package omw-1.4 is already up-to-date!\n"
     ]
    },
    {
     "data": {
      "text/plain": [
       "{'score': 34.774253886934794,\n",
       " 'char_order': 6,\n",
       " 'word_order': 0,\n",
       " 'beta': 2,\n",
       " 'bleu': 0.11017722886419022,\n",
       " 'precisions': [0.386394229803307,\n",
       "  0.15402946273830156,\n",
       "  0.07010792358416555,\n",
       "  0.03531553927340922],\n",
       " 'brevity_penalty': 1.0,\n",
       " 'length_ratio': 1.2377186765638406,\n",
       " 'translation_length': 99546,\n",
       " 'reference_length': 80427,\n",
       " 'rouge1': 0.38876618138191454,\n",
       " 'rouge2': 0.15167336303164228,\n",
       " 'rougeL': 0.32818470447982817,\n",
       " 'rougeLsum': 0.3281664178921254,\n",
       " 'meteor': 0.33593630617140496,\n",
       " 'google_bleu': 0.1614613648663828}"
      ]
     },
     "metadata": {},
     "output_type": "display_data"
    },
    {
     "name": "stderr",
     "output_type": "stream",
     "text": [
      "100%|██████████| 2610/2610 [08:06<00:00,  5.37it/s]\n"
     ]
    },
    {
     "name": "stdout",
     "output_type": "stream",
     "text": [
      "2610 2610\n"
     ]
    },
    {
     "name": "stderr",
     "output_type": "stream",
     "text": [
      "[nltk_data] Downloading package wordnet to\n",
      "[nltk_data]     C:\\Users\\abhiv\\AppData\\Roaming\\nltk_data...\n",
      "[nltk_data]   Package wordnet is already up-to-date!\n",
      "[nltk_data] Downloading package punkt to\n",
      "[nltk_data]     C:\\Users\\abhiv\\AppData\\Roaming\\nltk_data...\n",
      "[nltk_data]   Package punkt is already up-to-date!\n",
      "[nltk_data] Downloading package omw-1.4 to\n",
      "[nltk_data]     C:\\Users\\abhiv\\AppData\\Roaming\\nltk_data...\n",
      "[nltk_data]   Package omw-1.4 is already up-to-date!\n"
     ]
    },
    {
     "data": {
      "text/plain": [
       "{'score': 38.37993393545994,\n",
       " 'char_order': 6,\n",
       " 'word_order': 0,\n",
       " 'beta': 2,\n",
       " 'bleu': 0.14979800723917194,\n",
       " 'precisions': [0.4484263392857143,\n",
       "  0.1950339119439016,\n",
       "  0.10005925574780754,\n",
       "  0.05753943989238107],\n",
       " 'brevity_penalty': 1.0,\n",
       " 'length_ratio': 1.1140537381725042,\n",
       " 'translation_length': 89600,\n",
       " 'reference_length': 80427,\n",
       " 'rouge1': 0.43388821312249637,\n",
       " 'rouge2': 0.1880674209030742,\n",
       " 'rougeL': 0.36556917629854546,\n",
       " 'rougeLsum': 0.3654439543934844,\n",
       " 'meteor': 0.37230503517222907,\n",
       " 'google_bleu': 0.19485563169449804}"
      ]
     },
     "metadata": {},
     "output_type": "display_data"
    },
    {
     "name": "stderr",
     "output_type": "stream",
     "text": [
      "100%|██████████| 2610/2610 [07:21<00:00,  5.91it/s]\n"
     ]
    },
    {
     "name": "stdout",
     "output_type": "stream",
     "text": [
      "2610 2610\n"
     ]
    },
    {
     "name": "stderr",
     "output_type": "stream",
     "text": [
      "[nltk_data] Downloading package wordnet to\n",
      "[nltk_data]     C:\\Users\\abhiv\\AppData\\Roaming\\nltk_data...\n",
      "[nltk_data]   Package wordnet is already up-to-date!\n",
      "[nltk_data] Downloading package punkt to\n",
      "[nltk_data]     C:\\Users\\abhiv\\AppData\\Roaming\\nltk_data...\n",
      "[nltk_data]   Package punkt is already up-to-date!\n",
      "[nltk_data] Downloading package omw-1.4 to\n",
      "[nltk_data]     C:\\Users\\abhiv\\AppData\\Roaming\\nltk_data...\n",
      "[nltk_data]   Package omw-1.4 is already up-to-date!\n"
     ]
    },
    {
     "data": {
      "text/plain": [
       "{'score': 38.92617419691285,\n",
       " 'char_order': 6,\n",
       " 'word_order': 0,\n",
       " 'beta': 2,\n",
       " 'bleu': 0.17018996617377927,\n",
       " 'precisions': [0.483790461763866,\n",
       "  0.21497773614443916,\n",
       "  0.11491124417477662,\n",
       "  0.07019763715633554],\n",
       " 'brevity_penalty': 1.0,\n",
       " 'length_ratio': 1.0013925671727155,\n",
       " 'translation_length': 80539,\n",
       " 'reference_length': 80427,\n",
       " 'rouge1': 0.4500795318755542,\n",
       " 'rouge2': 0.20127863292405612,\n",
       " 'rougeL': 0.37816123135216684,\n",
       " 'rougeLsum': 0.37799380918349657,\n",
       " 'meteor': 0.37445390228135883,\n",
       " 'google_bleu': 0.20451922850481596}"
      ]
     },
     "metadata": {},
     "output_type": "display_data"
    },
    {
     "name": "stderr",
     "output_type": "stream",
     "text": [
      "100%|██████████| 2610/2610 [08:07<00:00,  5.35it/s]\n"
     ]
    },
    {
     "name": "stdout",
     "output_type": "stream",
     "text": [
      "2610 2610\n"
     ]
    },
    {
     "name": "stderr",
     "output_type": "stream",
     "text": [
      "[nltk_data] Downloading package wordnet to\n",
      "[nltk_data]     C:\\Users\\abhiv\\AppData\\Roaming\\nltk_data...\n",
      "[nltk_data]   Package wordnet is already up-to-date!\n",
      "[nltk_data] Downloading package punkt to\n",
      "[nltk_data]     C:\\Users\\abhiv\\AppData\\Roaming\\nltk_data...\n",
      "[nltk_data]   Package punkt is already up-to-date!\n",
      "[nltk_data] Downloading package omw-1.4 to\n",
      "[nltk_data]     C:\\Users\\abhiv\\AppData\\Roaming\\nltk_data...\n",
      "[nltk_data]   Package omw-1.4 is already up-to-date!\n"
     ]
    },
    {
     "data": {
      "text/plain": [
       "{'score': 40.41674493084158,\n",
       " 'char_order': 6,\n",
       " 'word_order': 0,\n",
       " 'beta': 2,\n",
       " 'bleu': 0.16555905508506247,\n",
       " 'precisions': [0.4631978124613186,\n",
       "  0.20965254993797605,\n",
       "  0.11296280799072292,\n",
       "  0.06848723422634105],\n",
       " 'brevity_penalty': 1.0,\n",
       " 'length_ratio': 1.1049398833724993,\n",
       " 'translation_length': 88867,\n",
       " 'reference_length': 80427,\n",
       " 'rouge1': 0.4492976833221257,\n",
       " 'rouge2': 0.20482741611037522,\n",
       " 'rougeL': 0.3783352021612897,\n",
       " 'rougeLsum': 0.3782361068174826,\n",
       " 'meteor': 0.38591053665286484,\n",
       " 'google_bleu': 0.20687099470604625}"
      ]
     },
     "metadata": {},
     "output_type": "display_data"
    },
    {
     "name": "stderr",
     "output_type": "stream",
     "text": [
      "100%|██████████| 2610/2610 [08:28<00:00,  5.13it/s]\n"
     ]
    },
    {
     "name": "stdout",
     "output_type": "stream",
     "text": [
      "2610 2610\n"
     ]
    },
    {
     "name": "stderr",
     "output_type": "stream",
     "text": [
      "[nltk_data] Downloading package wordnet to\n",
      "[nltk_data]     C:\\Users\\abhiv\\AppData\\Roaming\\nltk_data...\n",
      "[nltk_data]   Package wordnet is already up-to-date!\n",
      "[nltk_data] Downloading package punkt to\n",
      "[nltk_data]     C:\\Users\\abhiv\\AppData\\Roaming\\nltk_data...\n",
      "[nltk_data]   Package punkt is already up-to-date!\n",
      "[nltk_data] Downloading package omw-1.4 to\n",
      "[nltk_data]     C:\\Users\\abhiv\\AppData\\Roaming\\nltk_data...\n",
      "[nltk_data]   Package omw-1.4 is already up-to-date!\n"
     ]
    },
    {
     "data": {
      "text/plain": [
       "{'score': 40.721980527557136,\n",
       " 'char_order': 6,\n",
       " 'word_order': 0,\n",
       " 'beta': 2,\n",
       " 'bleu': 0.15932930884219138,\n",
       " 'precisions': [0.44594331878861193,\n",
       "  0.19924870523905844,\n",
       "  0.10826618441534658,\n",
       "  0.06699072653908776],\n",
       " 'brevity_penalty': 1.0,\n",
       " 'length_ratio': 1.1512054409588819,\n",
       " 'translation_length': 92588,\n",
       " 'reference_length': 80427,\n",
       " 'rouge1': 0.4438558502216844,\n",
       " 'rouge2': 0.20023932342100625,\n",
       " 'rougeL': 0.37049227050340316,\n",
       " 'rougeLsum': 0.37035164579594804,\n",
       " 'meteor': 0.3807886400626061,\n",
       " 'google_bleu': 0.20173534614675015}"
      ]
     },
     "metadata": {},
     "output_type": "display_data"
    }
   ],
   "source": [
    "# models = []\n",
    "# for epoch in [10,20,30,40,50]:\n",
    "#     model = torch.load(f'checkpoints/transformer_obolo_to_english_combination_{epoch}_epochs.pt').to(DEVICE)\n",
    "#     models.append(model)\n",
    "\n",
    "# scores = []\n",
    "# for mod in models:\n",
    "#     score = test_model(mod)\n",
    "#     display(score)\n",
    "#     scores.append(score) "
   ]
  },
  {
   "cell_type": "code",
   "execution_count": 54,
   "metadata": {},
   "outputs": [
    {
     "name": "stdout",
     "output_type": "stream",
     "text": [
      "3110 3110\n"
     ]
    }
   ],
   "source": [
    "print(len(preds), len(refs))"
   ]
  },
  {
   "cell_type": "code",
   "execution_count": 4,
   "metadata": {},
   "outputs": [
    {
     "name": "stderr",
     "output_type": "stream",
     "text": [
      "[nltk_data] Downloading package wordnet to\n",
      "[nltk_data]     C:\\Users\\abhiv\\AppData\\Roaming\\nltk_data...\n",
      "[nltk_data]   Package wordnet is already up-to-date!\n",
      "[nltk_data] Downloading package punkt to\n",
      "[nltk_data]     C:\\Users\\abhiv\\AppData\\Roaming\\nltk_data...\n",
      "[nltk_data]   Package punkt is already up-to-date!\n",
      "[nltk_data] Downloading package omw-1.4 to\n",
      "[nltk_data]     C:\\Users\\abhiv\\AppData\\Roaming\\nltk_data...\n",
      "[nltk_data]   Package omw-1.4 is already up-to-date!\n"
     ]
    }
   ],
   "source": [
    "# metrics\n",
    "chrf = load('chrf')\n",
    "gleu = load('google_bleu')\n",
    "rouge = load('rouge') \n",
    "bleu = load('bleu')\n",
    "meteor = load('meteor')\n",
    "metrics = combine([chrf, bleu, rouge, meteor, gleu])"
   ]
  },
  {
   "cell_type": "code",
   "execution_count": 56,
   "metadata": {},
   "outputs": [
    {
     "data": {
      "text/plain": [
       "{'score': 33.04091540787891,\n",
       " 'char_order': 6,\n",
       " 'word_order': 0,\n",
       " 'beta': 2,\n",
       " 'bleu': 0.10531583607718822,\n",
       " 'precisions': [0.39940596433941206,\n",
       "  0.15199285856734504,\n",
       "  0.06464365746494309,\n",
       "  0.0313480889373341],\n",
       " 'brevity_penalty': 1.0,\n",
       " 'length_ratio': 1.1160628802618981,\n",
       " 'translation_length': 108411,\n",
       " 'reference_length': 97137,\n",
       " 'rouge1': 0.3765356456692016,\n",
       " 'rouge2': 0.13864376297768582,\n",
       " 'rougeL': 0.31799077304173684,\n",
       " 'rougeLsum': 0.3181688900030759,\n",
       " 'meteor': 0.3184619515531625,\n",
       " 'google_bleu': 0.1572599755737436}"
      ]
     },
     "execution_count": 56,
     "metadata": {},
     "output_type": "execute_result"
    }
   ],
   "source": [
    "scores = metrics.compute(predictions=preds, references=refs)\n",
    "scores"
   ]
  },
  {
   "cell_type": "code",
   "execution_count": 5,
   "metadata": {},
   "outputs": [],
   "source": [
    "# sample sentence translation\n",
    "import torch\n",
    "from datasets import load_dataset\n",
    "m = torch.load('transformer_obolo_to_english_bpe.pt').to('cuda')"
   ]
  },
  {
   "cell_type": "code",
   "execution_count": 8,
   "metadata": {},
   "outputs": [
    {
     "name": "stdout",
     "output_type": "stream",
     "text": [
      "hear ye now what the lord saith; arise, contend thou before the mountains, and let the hills hear thy voice.\n",
      "hearken ye unto the lord, saith the lord; hear ye from the mountain, and hear your words, which hear your words which hear your words.\n"
     ]
    }
   ],
   "source": [
    "print(test['English'][100])\n",
    "print(translate(m, test['Obolo'][100]))"
   ]
  },
  {
   "cell_type": "code",
   "execution_count": 14,
   "metadata": {},
   "outputs": [
    {
     "name": "stdout",
     "output_type": "stream",
     "text": [
      "and the king said unto zerah, what [is] thy father? and he said unto him, behold, i [am] this day: for this day is come to jerusalem, because he hath sent me to day, and said, this is come unto me, and i will give him to my father.\n"
     ]
    }
   ],
   "source": [
    "sentence = \"ogwu ubọọn̄ oneniyaka ido siba ibe, “sà gwun̄ nte uwu kwun̄ ìkup me owa?” siba ofọfọọk ibe ke ọmọ òwa me jeruselem okupbe, mije, ìkikeek ibe, usini mgbọ, cherekeyi, ke ebi uwu kè ijeren mêniyaka irek mkpulu nte nte kan̄ inyi ọmọ.\"\n",
    "print(translate(m, sentence))"
   ]
  },
  {
   "cell_type": "code",
   "execution_count": 9,
   "metadata": {},
   "outputs": [],
   "source": [
    "# preds = []\n",
    "# refs = []\n",
    "# for idx in tqdm(range(300)):\n",
    "#     ob, en = test['Obolo'][idx], test['English'][idx]\n",
    "#     refs.append(en)\n",
    "#     pred = translate(m, ob)\n",
    "#     preds.append(pred)\n",
    "    \n",
    "# scores = metrics.compute(predictions=preds, references=refs)\n",
    "# scores"
   ]
  }
 ],
 "metadata": {
  "kernelspec": {
   "display_name": "cs224n-gpu",
   "language": "python",
   "name": "python3"
  },
  "language_info": {
   "codemirror_mode": {
    "name": "ipython",
    "version": 3
   },
   "file_extension": ".py",
   "mimetype": "text/x-python",
   "name": "python",
   "nbconvert_exporter": "python",
   "pygments_lexer": "ipython3",
   "version": "3.10.0"
  }
 },
 "nbformat": 4,
 "nbformat_minor": 2
}
